{
 "cells": [
  {
   "cell_type": "markdown",
   "metadata": {},
   "source": [
    "# Datamining\n",
    "### Klassifikation und Clustering\n",
    "\n",
    "<img src=\"https://avatars.githubusercontent.com/u/49121218?v=4\" alt=\"Avatar\" style=\"float: left; padding-right:1rem; padding-bottom: .5rem;\" width=80/>\n",
    "\n",
    "📝 [Oguzhan-Burak Bozkurt](https://github.com/0xBuro)<br/>\n",
    "🗓️ Mai 2023 <br/>\n",
    "\n",
    "Tools: <br/>\n",
    "<div>\n",
    "\n",
    "[<img src=\"https://simpleicons.org/icons/python.svg\" alt=\"Python\" width=\"28\"/>](https://www.python.org/)\n",
    "[<img src=\"https://simpleicons.org/icons/jupyter.svg\" alt=\"Jupyter\" width=\"28\"/>](https://jupyter.org/)\n",
    "[<img src=\"https://simpleicons.org/icons/pandas.svg\" alt=\"Pandas\" width=\"28\"/>](https://pandas.pydata.org/)\n",
    "[<img src=\"https://simpleicons.org/icons/scikitlearn.svg\" alt=\"Sickit-Learn\" width=\"28\"/>](https://scikit-learn.org)\n",
    "<br/>\n",
    "\n",
    "## Entscheidung für Datensatz\n",
    "Wir Filtern die Datensätze auf https://archive.ics.uci.edu/ml/datasets.php mit folgenden Eigenschaften:\n",
    " 1. Default Task = Classification\n",
    " 2. Attribute Type = Numerical\n",
    " 3. Data Type = Multivariate\n",
    " 4. Attributes = 10 to 100\n",
    " 5. Instances = Greater than 1000\n",
    " 6. Format Type = Matrix\n",
    "\n",
    "und wählen noch eine Kategorie die uns interessiert. Hier entscheide ich mich für Area = Business.\n",
    "\n",
    "-> gefilterter Link findet 11 Datensätze: https://archive.ics.uci.edu/ml/datasets.php?format=mat&task=cla&att=num&area=bus&numAtt=10to100&numIns=greater1000&type=mvar&sort=nameUp&view=table\n",
    "\n",
    "## Ausgewählter Datensatz\n",
    "#### default of credit card clients Data Set\n",
    "https://archive.ics.uci.edu/ml/datasets/default+of+credit+card+clients#\n",
    "\n",
    "Bei dem default of credit card clients Datensatz handelt es sich um eine Studie zur Ermittlung der Genauigkeit der Wahrscheinlichkeitsvorhersage von 6 verschiedenen Datamining Techniken zu Vorhersage von vertragsgemäßen Zahlungen von Kreditnehmern in Taiwan. Die Studie wurde durch Prof. I-Cheng Yeh der Fakultät für Informationsmanagement an der Chung-Hua Universität in Zusammenarbeit mit der Tamkang Universität in Taiwan bereitgestellt. Die Studie wird auf den 26.01.2016 datiert.\n",
    "Da die reale Wahrscheinlichkeit des Ausfalls nicht bekannt ist, wurden in der Studie eine lineare Regression zu den Regressionswerten der 6 Datamining Methoden durchgeführt, um das beste Klassifikationsverfahren zu erproben. Es wurde mit folgenden Verfahren getestet:\n",
    "\n",
    "- K-nearest neighbor (KNN)\n",
    "- Logistic regression (LR)\n",
    "- Discriminant Analysis (DA)\n",
    "- Naive Bayesian (NB)\n",
    "- Artificial Neural Networks (ANN)\n",
    "- Classification Trees (CTs)\n",
    "\n",
    "wobei die Methode künstliche neuronale Netze (ANN) am besten abschneidete. Aus der Studie geht eine hohe Genauigkeit der Wahrscheinlichkeitsvorhersage und sogar die beste Effizienz für diese Methode hervor (R2 = 0,9647, ri = 0.0145 und Koeffizient = 0.9971). Mehr zur Studie hier: https://www.sciencedirect.com/science/article/abs/pii/S0957417407006719\n",
    "\n",
    "##### Charakteristika\n",
    "- Datensatz: Multivariate Staistik als Vergleich von mehreren Variablen gleichzeitig.\n",
    "- Attribute: numerische Daten, reale Daten\n",
    "- Aufgabe zu Klassifikationsverfahren\n",
    "- Felder: 24, Dateninstanzen: 30000\n",
    "- Keine fehlenden Werte gefunden\n",
    "- Themenbereich: Business\n",
    "\n",
    "##### Felder:\n",
    "* X1: Höhe des Kredits (numerisch Dollar)\n",
    "* X2: Geschlecht (1 = männlich, 2 = weiblich)\n",
    "* X3: Bildungsgrad (1 = graduate school, 2 = university, 3 = high school, 4 = other)\n",
    "* X4: Familienstand (1 = verheiratet, 2 = single, 3 = andere)\n",
    "* X5: Alter (Jahre)\n",
    "* X6..X11: Zahlungsverlauf Status der Monate April - September (repayment status september 2005, repayment status august 2005...) wobei -1 pay duly (ordnungsgemäß), 1 = delay (verzug 1 Monat) 2 = delay (verzug 2 Monate)...\n",
    "* X12-X17: Rechnungsauszug (numerisch Dollar) September -> April 2005\n",
    "* X18-X23: vorherige Zahlungen (numerisch Dollar) September -> April 2005\n",
    "\n",
    "##### Info\n",
    "Im Finanz- und Kreditwesen spricht man hier von Kredit- bzw. Ausfallrisiko, also der Gefahr, dass ein Kreditnehmer einen bereits erhaltenen Kredit gar nicht oder nur unvollständig zurückzahlen kann. Die Bestimmung des Adressrisiko ist in der Risikosteuerung bedeutender als die Bestimmung von Kreditwürdigkeit."
   ]
  },
  {
   "cell_type": "markdown",
   "metadata": {},
   "source": [
    "## Bearbeitung der Aufgabe\n",
    "\n",
    "#### Einlesen der Daten"
   ]
  },
  {
   "cell_type": "code",
   "execution_count": 45,
   "metadata": {},
   "outputs": [
    {
     "data": {
      "text/html": [
       "<div>\n",
       "<style scoped>\n",
       "    .dataframe tbody tr th:only-of-type {\n",
       "        vertical-align: middle;\n",
       "    }\n",
       "\n",
       "    .dataframe tbody tr th {\n",
       "        vertical-align: top;\n",
       "    }\n",
       "\n",
       "    .dataframe thead th {\n",
       "        text-align: right;\n",
       "    }\n",
       "</style>\n",
       "<table border=\"1\" class=\"dataframe\">\n",
       "  <thead>\n",
       "    <tr style=\"text-align: right;\">\n",
       "      <th></th>\n",
       "      <th>LIMIT_BAL</th>\n",
       "      <th>SEX</th>\n",
       "      <th>EDUCATION</th>\n",
       "      <th>MARRIAGE</th>\n",
       "      <th>AGE</th>\n",
       "      <th>PAY_0</th>\n",
       "      <th>PAY_2</th>\n",
       "      <th>PAY_3</th>\n",
       "      <th>PAY_4</th>\n",
       "      <th>PAY_5</th>\n",
       "      <th>...</th>\n",
       "      <th>BILL_AMT4</th>\n",
       "      <th>BILL_AMT5</th>\n",
       "      <th>BILL_AMT6</th>\n",
       "      <th>PAY_AMT1</th>\n",
       "      <th>PAY_AMT2</th>\n",
       "      <th>PAY_AMT3</th>\n",
       "      <th>PAY_AMT4</th>\n",
       "      <th>PAY_AMT5</th>\n",
       "      <th>PAY_AMT6</th>\n",
       "      <th>default payment next month</th>\n",
       "    </tr>\n",
       "    <tr>\n",
       "      <th>ID</th>\n",
       "      <th></th>\n",
       "      <th></th>\n",
       "      <th></th>\n",
       "      <th></th>\n",
       "      <th></th>\n",
       "      <th></th>\n",
       "      <th></th>\n",
       "      <th></th>\n",
       "      <th></th>\n",
       "      <th></th>\n",
       "      <th></th>\n",
       "      <th></th>\n",
       "      <th></th>\n",
       "      <th></th>\n",
       "      <th></th>\n",
       "      <th></th>\n",
       "      <th></th>\n",
       "      <th></th>\n",
       "      <th></th>\n",
       "      <th></th>\n",
       "      <th></th>\n",
       "    </tr>\n",
       "  </thead>\n",
       "  <tbody>\n",
       "    <tr>\n",
       "      <th>1</th>\n",
       "      <td>20000</td>\n",
       "      <td>2</td>\n",
       "      <td>2</td>\n",
       "      <td>1</td>\n",
       "      <td>24</td>\n",
       "      <td>2</td>\n",
       "      <td>2</td>\n",
       "      <td>-1</td>\n",
       "      <td>-1</td>\n",
       "      <td>-2</td>\n",
       "      <td>...</td>\n",
       "      <td>0</td>\n",
       "      <td>0</td>\n",
       "      <td>0</td>\n",
       "      <td>0</td>\n",
       "      <td>689</td>\n",
       "      <td>0</td>\n",
       "      <td>0</td>\n",
       "      <td>0</td>\n",
       "      <td>0</td>\n",
       "      <td>1</td>\n",
       "    </tr>\n",
       "    <tr>\n",
       "      <th>2</th>\n",
       "      <td>120000</td>\n",
       "      <td>2</td>\n",
       "      <td>2</td>\n",
       "      <td>2</td>\n",
       "      <td>26</td>\n",
       "      <td>-1</td>\n",
       "      <td>2</td>\n",
       "      <td>0</td>\n",
       "      <td>0</td>\n",
       "      <td>0</td>\n",
       "      <td>...</td>\n",
       "      <td>3272</td>\n",
       "      <td>3455</td>\n",
       "      <td>3261</td>\n",
       "      <td>0</td>\n",
       "      <td>1000</td>\n",
       "      <td>1000</td>\n",
       "      <td>1000</td>\n",
       "      <td>0</td>\n",
       "      <td>2000</td>\n",
       "      <td>1</td>\n",
       "    </tr>\n",
       "    <tr>\n",
       "      <th>3</th>\n",
       "      <td>90000</td>\n",
       "      <td>2</td>\n",
       "      <td>2</td>\n",
       "      <td>2</td>\n",
       "      <td>34</td>\n",
       "      <td>0</td>\n",
       "      <td>0</td>\n",
       "      <td>0</td>\n",
       "      <td>0</td>\n",
       "      <td>0</td>\n",
       "      <td>...</td>\n",
       "      <td>14331</td>\n",
       "      <td>14948</td>\n",
       "      <td>15549</td>\n",
       "      <td>1518</td>\n",
       "      <td>1500</td>\n",
       "      <td>1000</td>\n",
       "      <td>1000</td>\n",
       "      <td>1000</td>\n",
       "      <td>5000</td>\n",
       "      <td>0</td>\n",
       "    </tr>\n",
       "    <tr>\n",
       "      <th>4</th>\n",
       "      <td>50000</td>\n",
       "      <td>2</td>\n",
       "      <td>2</td>\n",
       "      <td>1</td>\n",
       "      <td>37</td>\n",
       "      <td>0</td>\n",
       "      <td>0</td>\n",
       "      <td>0</td>\n",
       "      <td>0</td>\n",
       "      <td>0</td>\n",
       "      <td>...</td>\n",
       "      <td>28314</td>\n",
       "      <td>28959</td>\n",
       "      <td>29547</td>\n",
       "      <td>2000</td>\n",
       "      <td>2019</td>\n",
       "      <td>1200</td>\n",
       "      <td>1100</td>\n",
       "      <td>1069</td>\n",
       "      <td>1000</td>\n",
       "      <td>0</td>\n",
       "    </tr>\n",
       "    <tr>\n",
       "      <th>5</th>\n",
       "      <td>50000</td>\n",
       "      <td>1</td>\n",
       "      <td>2</td>\n",
       "      <td>1</td>\n",
       "      <td>57</td>\n",
       "      <td>-1</td>\n",
       "      <td>0</td>\n",
       "      <td>-1</td>\n",
       "      <td>0</td>\n",
       "      <td>0</td>\n",
       "      <td>...</td>\n",
       "      <td>20940</td>\n",
       "      <td>19146</td>\n",
       "      <td>19131</td>\n",
       "      <td>2000</td>\n",
       "      <td>36681</td>\n",
       "      <td>10000</td>\n",
       "      <td>9000</td>\n",
       "      <td>689</td>\n",
       "      <td>679</td>\n",
       "      <td>0</td>\n",
       "    </tr>\n",
       "  </tbody>\n",
       "</table>\n",
       "<p>5 rows × 24 columns</p>\n",
       "</div>"
      ],
      "text/plain": [
       "    LIMIT_BAL  SEX  EDUCATION  MARRIAGE  AGE  PAY_0  PAY_2  PAY_3  PAY_4   \n",
       "ID                                                                         \n",
       "1       20000    2          2         1   24      2      2     -1     -1  \\\n",
       "2      120000    2          2         2   26     -1      2      0      0   \n",
       "3       90000    2          2         2   34      0      0      0      0   \n",
       "4       50000    2          2         1   37      0      0      0      0   \n",
       "5       50000    1          2         1   57     -1      0     -1      0   \n",
       "\n",
       "    PAY_5  ...  BILL_AMT4  BILL_AMT5  BILL_AMT6  PAY_AMT1  PAY_AMT2  PAY_AMT3   \n",
       "ID         ...                                                                  \n",
       "1      -2  ...          0          0          0         0       689         0  \\\n",
       "2       0  ...       3272       3455       3261         0      1000      1000   \n",
       "3       0  ...      14331      14948      15549      1518      1500      1000   \n",
       "4       0  ...      28314      28959      29547      2000      2019      1200   \n",
       "5       0  ...      20940      19146      19131      2000     36681     10000   \n",
       "\n",
       "    PAY_AMT4  PAY_AMT5  PAY_AMT6  default payment next month  \n",
       "ID                                                            \n",
       "1          0         0         0                           1  \n",
       "2       1000         0      2000                           1  \n",
       "3       1000      1000      5000                           0  \n",
       "4       1100      1069      1000                           0  \n",
       "5       9000       689       679                           0  \n",
       "\n",
       "[5 rows x 24 columns]"
      ]
     },
     "execution_count": 45,
     "metadata": {},
     "output_type": "execute_result"
    }
   ],
   "source": [
    "import pandas as pd\n",
    "\n",
    "# 1. Zeile überspringen, da hier nur mit X1-X23 bis einschließlich Y annotiert wurde\n",
    "df = pd.read_excel(\"default_of_credit_clients.xls\", skiprows=1, index_col='ID')\n",
    "\n",
    "df.head()"
   ]
  },
  {
   "cell_type": "markdown",
   "metadata": {},
   "source": [
    "Wir haben vollständig numerische Werte. Keine Transformation nötig.\n",
    "In Excel haben wir bereits überprüft, ob Zielvariablen fehlen. Für die Zielvariable Y konnten keine Daten mit fehlenden Werten identifiziert werden. In den anderen Spalten fehlen auch keine numerischen Werte.\n",
    "\n",
    "#### Aufteilung der Daten in Test und Trainingsdaten"
   ]
  },
  {
   "cell_type": "code",
   "execution_count": 36,
   "metadata": {},
   "outputs": [
    {
     "name": "stdout",
     "output_type": "stream",
     "text": [
      "Trainingsdaten Größe: (24000, 23)\n",
      "Testdaten Größe: (6000, 23)\n"
     ]
    }
   ],
   "source": [
    "from sklearn.model_selection import train_test_split\n",
    "\n",
    "# Aufteilen in x = Features, y = Zielvariable\n",
    "x = df.drop('default payment next month', axis=1)\n",
    "y = df['default payment next month']\n",
    "\n",
    "# 20% der Daten in Testdaten umwandeln, Zufallsgenerator = 42\n",
    "x_train, x_test, y_train, y_test = train_test_split(x, y, test_size=0.2, random_state=42)\n",
    "\n",
    "# Ausgabe\n",
    "print('Trainingsdaten Größe:', x_train.shape)\n",
    "print('Testdaten Größe:', x_test.shape)"
   ]
  },
  {
   "cell_type": "markdown",
   "metadata": {},
   "source": [
    "### Klassifikation der Testdaten\n",
    "wir wollen, wie bereits aus der Studie als optimalen Classifier bekannt, mit einem künstlichen neuronalen Netz (ANN) klassifizieren. Scikit-Learn hat eine große Auswahl an Klassifikationsverfahren, für KNN würde sich aber auch TensorFlows keras Library sehr gut eignen. Wir verwenden im Rahmen dieser Übung aber trotzdem ein Verfahren aus Sklearn. Eine vereinfachte Implementierung künstlicher neuronaler Netze in Sklearn ist der Multi-Layer Perceptron (MLP), ein überwachtes Modell, welches Algorithmen des stochastischen Gradientverfahrens (SGD) nutzt.\n",
    "\n",
    "MLP lernt die Fuktion f( &bull; ): R<sup>m</sup> -> R<sup>o</sup>, wobei m = Anzahl der Dimension für Eingabe und o = Anzahl der Dimension für Ausgabewert. In unserem Fall x1..x23 und Zielvariable y.\n"
   ]
  },
  {
   "cell_type": "code",
   "execution_count": 37,
   "metadata": {},
   "outputs": [
    {
     "name": "stdout",
     "output_type": "stream",
     "text": [
      "Accuracy: 0.7773333333333333\n"
     ]
    }
   ],
   "source": [
    "from sklearn.neural_network import MLPClassifier\n",
    "from sklearn.metrics import accuracy_score, classification_report\n",
    "\n",
    "# Initialisierung des Modells mit dem Adam Algorithmus als solver, ein stochastischer Optimizer.\n",
    "model = MLPClassifier(hidden_layer_sizes=(64, 64), activation='relu', solver='adam', max_iter=500)\n",
    "\n",
    "# Training des Modells\n",
    "model.fit(x_train, y_train)\n",
    "\n",
    "# Vorhersage auf Testdaten\n",
    "predictions = model.predict(x_test)\n",
    "\n",
    "# Auswertung der Vorhersage nach Accuracy: Proportion korrekt klassifizierter Instanzen\n",
    "accuracy = accuracy_score(y_test, predictions)\n",
    "\n",
    "print('Accuracy:', accuracy)"
   ]
  },
  {
   "cell_type": "markdown",
   "metadata": {},
   "source": [
    "Evaluierung der Klassifikation:\n",
    "\n",
    "Wir haben eine Proportion von einer Wahrscheinlichkeit von ca. 78,1% für korrekten Klassifizierung zu 21,9% falschen Vorhersagen. Wir schauen noch auf weitere Metriken."
   ]
  },
  {
   "cell_type": "code",
   "execution_count": 38,
   "metadata": {},
   "outputs": [
    {
     "name": "stdout",
     "output_type": "stream",
     "text": [
      "              precision    recall  f1-score   support\n",
      "\n",
      "           0       0.78      0.99      0.87      4687\n",
      "           1       0.40      0.03      0.06      1313\n",
      "\n",
      "    accuracy                           0.78      6000\n",
      "   macro avg       0.59      0.51      0.47      6000\n",
      "weighted avg       0.70      0.78      0.70      6000\n",
      "\n"
     ]
    }
   ],
   "source": [
    "from sklearn.metrics import classification_report\n",
    "\n",
    "# Berechne die Evaluierungsmetriken\n",
    "report = classification_report(y_test, predictions)\n",
    "\n",
    "# Gib den Report aus\n",
    "print(report)"
   ]
  },
  {
   "cell_type": "markdown",
   "metadata": {},
   "source": [
    "Wir haben auch eine Hohe Präzision bei positiv vorhergesagten Instanzen. Der Recall Wert von 1 deutet auf einen sehr guten Klassifikator, der postivite Instanzen die tatsächlich Postitiv ist zu erkennen. Beide Werte führen zu einem F1-Score von 0.88, dem harmonischen Mittel aus Präzision und Recall."
   ]
  },
  {
   "cell_type": "markdown",
   "metadata": {},
   "source": [
    "### Clustering der Testdaten\n",
    "Wir nutzen den KMeans aus Scikit-Learn. KMeans clustert die Daten indem es die Daten in n-Anzahl von Gruppen mit gleicher Varianz aufteilt. Die Anzahl der Cluster wird in K repräsentiert. Wir nutzen die Elbow Method um einen guten n-Wert zu wählen. Bei der Elbow Method schauen wir uns die Kurve aus der within-cluster sum of squares (WCSS) an. Der Punkt, an dem unsere Kurve abflacht ist der Punkt, andem die Model-Komplexität in einem trade-off zu der Varianz in den Clustern danach führt. Wir wählen also einen Punkt, an dem sich die Kurve anfängt abzuflachen."
   ]
  },
  {
   "cell_type": "code",
   "execution_count": 39,
   "metadata": {},
   "outputs": [
    {
     "data": {
      "image/png": "[encoded data removed]",
      "text/plain": [
       "<Figure size 640x480 with 1 Axes>"
      ]
     },
     "metadata": {},
     "output_type": "display_data"
    }
   ],
   "source": [
    "import matplotlib.pyplot as plt\n",
    "from sklearn.cluster import KMeans\n",
    "import warnings\n",
    "\n",
    "# Future Warnings ignorieren, irritiert nur im Output\n",
    "warnings.filterwarnings(\"ignore\")\n",
    "\n",
    "# min 1 Cluster bis max 10 Cluster\n",
    "cluster_range = range(1, 11)\n",
    "\n",
    "# wcss in einer Liste zurückgeben\n",
    "wcss = []\n",
    "\n",
    "# wcss für jedes Cluster\n",
    "for n_clusters in cluster_range:\n",
    "    kmeans = KMeans(n_clusters=n_clusters)\n",
    "    kmeans.fit(x)\n",
    "    wcss.append(kmeans.inertia_)\n",
    "\n",
    "# Ausgabe des Plot\n",
    "plt.plot(cluster_range, wcss)\n",
    "plt.xlabel('Number of Clusters')\n",
    "plt.ylabel('WCSS')\n",
    "plt.title('Elbow Method')\n",
    "plt.show()"
   ]
  },
  {
   "cell_type": "markdown",
   "metadata": {},
   "source": [
    "Der Punkt zwischen 2 und 4 (3) sieht gut aus. Wir nehmen uns vor mit n = 3 Clustern zu arbeiten."
   ]
  },
  {
   "cell_type": "code",
   "execution_count": 42,
   "metadata": {},
   "outputs": [
    {
     "name": "stdout",
     "output_type": "stream",
     "text": [
      "Cluster: [0 0 0 0 0 0 2 0 0 0 1 1 1 0 1 0 0 2 1 0]\n"
     ]
    }
   ],
   "source": [
    "from sklearn.cluster import KMeans \n",
    "\n",
    "# Initialisierung des Kmeans-Cluster Algorithmus \n",
    "kmeans = KMeans(n_clusters=3)\n",
    "\n",
    "# Anpassung des Modells an die Daten\n",
    "kmeans.fit(x)\n",
    "\n",
    "# Cluster-Zuordnung Predictions\n",
    "cluster_labels = kmeans.predict(x)\n",
    "\n",
    "# Ausgabe der Zuordnung (auf 20 Cluster beschränkt)\n",
    "print('Cluster:', cluster_labels[:20])"
   ]
  },
  {
   "cell_type": "markdown",
   "metadata": {},
   "source": [
    "Evaluierung des Clusters:\n",
    "\n",
    "Wir nutzen den Silhouette Coefficient, der die mean intra-cluster Distanz (a) und die mean nearest-cluster Distanz (b) nutzt. Der Koeffizient ist also (b - a) / max(a, b). Der beste möglich Rückgabewert ist 1 und der schlechteste Wert ist -1."
   ]
  },
  {
   "cell_type": "code",
   "execution_count": 43,
   "metadata": {},
   "outputs": [
    {
     "name": "stdout",
     "output_type": "stream",
     "text": [
      "Silhouette Score: 0.4510399479869479\n"
     ]
    }
   ],
   "source": [
    "from sklearn.metrics import silhouette_score\n",
    "\n",
    "silhouette_avg = silhouette_score(x, cluster_labels)\n",
    "print('Silhouette Score:', silhouette_avg)"
   ]
  },
  {
   "cell_type": "markdown",
   "metadata": {},
   "source": [
    "Wir sehen einen Wert ziemlich in der Mitte zwischen 0 und 1. Dieses Ergebnis deutet auf ein moderates Maß an Trennung Kohärenz zwischen den Clustern in den Daten. Einerseits bedeutet das, dass unsere Cluster voneinander unterscheidbarer Natur sind, es aber andererseits trotzdem zu gewissen Überlappung oder Mehrdeutigkeit vorhanden ist."
   ]
  }
 ],
 "metadata": {
  "kernelspec": {
   "display_name": "Python 3 (ipykernel)",
   "language": "python",
   "name": "python3"
  },
  "language_info": {
   "codemirror_mode": {
    "name": "ipython",
    "version": 3
   },
   "file_extension": ".py",
   "mimetype": "text/x-python",
   "name": "python",
   "nbconvert_exporter": "python",
   "pygments_lexer": "ipython3",
   "version": "3.11.0"
  }
 },
 "nbformat": 4,
 "nbformat_minor": 2
}
