{
 "cells": [
  {
   "cell_type": "markdown",
   "metadata": {},
   "source": [
    "# Stock News Sentiment-Analyse-Modell\n",
    "### Textmining Übung zu NLP/Textklassifikation\n",
    "\n",
    "<img src=\"https://avatars.githubusercontent.com/u/49121218?v=4\" alt=\"Avatar\" style=\"float: left; padding-right:1rem; padding-bottom: .5rem;\" width=80/>\n",
    "\n",
    "📝 [Oguzhan-Burak Bozkurt](https://github.com/0xBuro)<br/>\n",
    "🗓️ Juni 2023 <br/>\n",
    "\n",
    "Tools: <br/>\n",
    "<div>\n",
    "\n",
    "[<img src=\"https://simpleicons.org/icons/python.svg\" alt=\"Python\" width=\"28\"/>](https://www.python.org/)\n",
    "[<img src=\"https://simpleicons.org/icons/jupyter.svg\" alt=\"Jupyter\" width=\"28\"/>](https://jupyter.org/)\n",
    "[<img src=\"https://simpleicons.org/icons/pandas.svg\" alt=\"Pandas\" width=\"28\"/>](https://pandas.pydata.org/)\n",
    "[<img src=\"https://simpleicons.org/icons/scikitlearn.svg\" alt=\"Sickit-Learn\" width=\"28\"/>](https://scikit-learn.org)\n",
    "<br/>\n",
    "\n",
    "## Intro\n",
    "Dieses Jupyter Notebook dient als Übung zur Anwendung von Textmining- und NLP-Techniken zur Klassifikation von Aktienmarkt-Nachrichten. Das Ziel besteht darin, anhand von Textmerkmalen wie dem Highlight-Text und der Sentiment-Analyse den Sentiment-Wert (positive, negative oder neutral) vorherzusagen.\n",
    "\n",
    "## Steps\n",
    "1. Datenerfassung: Sammeln von Textdaten zu Aktienmarkt-Nachrichten. Hierzu utilisiere ich eine kostenlose [API von marketaux](https://www.marketaux.com/documentation), die einen Zugang zu Finanz- und Aktienmarkt-Nachrichten mit komprehensiver Sentiment-Analyse verschafft.\n",
    "2. Datenverarbeitung: Vorbereitung der Daten, Textvorverarbeitung und Extraktion relevanter Merkmale.\n",
    "3. Modellentwicklung: Training von Klassifikationsmodellen basierend auf den Textmerkmalen.\n",
    "4. Modellbewertung: Bewertung der Modellleistung anhand von Metriken wie Genauigkeit, Präzision und Rückruf sowie der Konfusionsmatrix.\n"
   ]
  },
  {
   "cell_type": "code",
   "execution_count": 652,
   "metadata": {},
   "outputs": [
    {
     "data": {
      "text/plain": [
       "True"
      ]
     },
     "execution_count": 652,
     "metadata": {},
     "output_type": "execute_result"
    }
   ],
   "source": [
    "# Umgebungsvariablen für API-Key und csv für Datei-Generierung importieren\n",
    "import os, requests, csv\n",
    "from dotenv import load_dotenv\n",
    "from pathlib import Path\n",
    "load_dotenv(Path(\"./.env\"))"
   ]
  },
  {
   "cell_type": "markdown",
   "metadata": {},
   "source": [
    "#### marketAux API einrichten und CSV Datei lesen "
   ]
  },
  {
   "cell_type": "code",
   "execution_count": 653,
   "metadata": {},
   "outputs": [
    {
     "name": "stdout",
     "output_type": "stream",
     "text": [
      "264\n"
     ]
    }
   ],
   "source": [
    "# MarketAux API Einrichtung\n",
    "API_TOKEN = os.getenv(\"API_TOKEN\")\n",
    "language = 'en'\n",
    "symbols = \"MSFT, AAPL, MSFT, GOOG, TSLA, NVDA, TSMC, AMD, ADBE, PYPL\"\n",
    "filter_entities = 'true'\n",
    "\n",
    "page = 1 # inkrementieren nach jedem Request\n",
    "\n",
    "# CSV Datei Name\n",
    "csv_file = \"stock_news_sentiment.csv\"\n",
    "\n",
    "# read \n",
    "with open(csv_file, \"r\", encoding=\"utf-8\") as file:\n",
    "    reader = csv.reader(file)\n",
    "    num_rows = len(list(reader))\n",
    "\n",
    "# Zeilen Anzahl überprüfen\n",
    "n = num_rows\n",
    "print(n)"
   ]
  },
  {
   "cell_type": "markdown",
   "metadata": {},
   "source": [
    "#### Daten aus dem API Endpunkt extrahieren und in die CSV Datei schreiben "
   ]
  },
  {
   "cell_type": "code",
   "execution_count": 509,
   "metadata": {},
   "outputs": [
    {
     "name": "stdout",
     "output_type": "stream",
     "text": [
      "Request fehlgeschlagen mit Status-Code: 402\n",
      "Zeile wurde zur CSV Datei hinzugefügt.\n"
     ]
    }
   ],
   "source": [
    "# URL Endpoint\n",
    "url = f\"https://api.marketaux.com/v1/news/all?symbols={symbols}&filter_entities={filter_entities}&languages={language}&page={page}&api_token={API_TOKEN}\"\n",
    "\n",
    "# JSON response\n",
    "res = requests.get(url)\n",
    "\n",
    "if res.status_code == 200:\n",
    "    data = res.json()\n",
    "        \n",
    "    # Extrahieren der gewünschten Felder aus der JSON Response\n",
    "    articles = data[\"data\"]\n",
    "    rows = []\n",
    "\n",
    "    # Iterieren durch den Datenbaum \n",
    "    for index, article in enumerate(articles):\n",
    "        article_id = len(rows) + index + 1\n",
    "        published_at = article.get(\"published_at\")\n",
    "        title = article.get(\"title\")\n",
    "        symbol = article[\"entities\"][0].get(\"symbol\")\n",
    "        name = article[\"entities\"][0].get(\"name\")\n",
    "        snippet = article.get(\"snippet\")\n",
    "        highlight = article[\"entities\"][0][\"highlights\"][0].get(\"highlight\")\n",
    "        url = article.get(\"url\")\n",
    "        sentiment = article[\"entities\"][0][\"highlights\"][0].get(\"sentiment\")\n",
    "\n",
    "        # Zeile aus generierten Feldern einfügen\n",
    "        row = [article_id, published_at, title, symbol, name, snippet, highlight, url, (float(sentiment) if sentiment is not None else 0.0)]\n",
    "        rows.append(row)\n",
    "else:\n",
    "    print(f\"Request fehlgeschlagen mit Status-Code: {res.status_code}\")\n",
    "    \n",
    "\n",
    "# Neue Zeile schreiben\n",
    "with open(csv_file, \"a\", newline=\"\", encoding=\"utf-8\") as file:\n",
    "    writer = csv.writer(file)\n",
    "    writer.writerows(rows)\n",
    "\n",
    "print(f\"Zeile wurde zur CSV Datei hinzugefügt.\")    "
   ]
  },
  {
   "cell_type": "markdown",
   "metadata": {},
   "source": [
    "#### Datenpräperation\n",
    "Hier werden die Daten etwas aufgeräumt, Not a Number Werte aussortiert und falsch geschriebenee Sentiment-Werte korrigiert. Im Hihglight Text wurden Html-Tags mitgeliefert (< em> < /em> usw.). Diese sortieren wir mit html.escape aus. Überlebende Html-Entities und Line-Breaks (\\n\\n) ersetzen wir auch entsprechend."
   ]
  },
  {
   "cell_type": "code",
   "execution_count": null,
   "metadata": {},
   "outputs": [],
   "source": [
    "import pandas as pd\n",
    "import math\n",
    "import html\n",
    "\n",
    "# df der csv Datei\n",
    "df = pd.read_csv(csv_file)\n",
    "\n",
    "df = df.drop('id', axis=1) # brauchen wir im df nicht, wurde zudem falsch inkrementiert.\n",
    "df.dropna(subset=['sentiment'], inplace=True) # NaN Values droppen\n",
    "\n",
    "# Lambda Funktion um korrekte float Ausgabe zu erzeugen. Vorzeichen behalten. 3 Stellen nach Komma ausgeben.\n",
    "df['sentiment'] = df['sentiment'].apply(lambda x: round(math.copysign(abs(x) / (10 ** len(str(int(abs(x))))), x), 3))\n",
    "\n",
    "# Special Chars escapen\n",
    "df['highlight'] = df['highlight'].apply(lambda x: html.escape(x, quote=False))\n",
    "df['highlight'] = df['highlight'].str.replace('&lt;em&gt;', '')\n",
    "df['highlight'] = df['highlight'].str.replace('&lt;/em&gt;', '')\n",
    "df['highlight'] = df['highlight'].str.replace('\\n\\n', '. ')\n",
    "df['highlight'] = df['highlight'].str.replace('&amp;', '&')\n",
    "\n",
    "\n",
    "# aufgeräumtes DataFrame\n",
    "df.sample(n=5)"
   ]
  },
  {
   "cell_type": "markdown",
   "metadata": {},
   "source": [
    "#### y-Zielvariable bestimmen (postive, negative, neutral)\n",
    "Wir wandeln unser sentiment je nach Wert in target (postive, negative, neutral) um. Unser Modell soll diesen Wert anhand eines Highlight Textes später selber vorhersagen können. Auch gucken wir auf die Verteilung unserer Zielvariable."
   ]
  },
  {
   "cell_type": "code",
   "execution_count": 510,
   "metadata": {},
   "outputs": [
    {
     "name": "stdout",
     "output_type": "stream",
     "text": [
      "target\n",
      "neutral     118\n",
      "positive    109\n",
      "negative     33\n",
      "Name: count, dtype: int64\n"
     ]
    }
   ],
   "source": [
    "import numpy as np\n",
    "\n",
    "# Zielvariable Sentiment in neutral, positive, negative aufteilen\n",
    "df['target'] = np.where(df['sentiment'] > 0.50, 'positive', np.where(df['sentiment'] < 0, 'negative', 'neutral'))\n",
    "\n",
    "# Verteilung\n",
    "target_counts = df['target'].value_counts()\n",
    "\n",
    "print(target_counts)"
   ]
  },
  {
   "cell_type": "markdown",
   "metadata": {},
   "source": [
    "#### Sample Output\n",
    "Ein erster Sample Output und ein Blick in die CSV-Datei zeigen bereits einige Probleme. Wir müssen weiter im Datensatz aufräumen bzw. ihn erweitern, da hier auch russische, polnische oder japanische Texte zu finden sind."
   ]
  },
  {
   "cell_type": "code",
   "execution_count": 401,
   "metadata": {},
   "outputs": [
    {
     "name": "stdout",
     "output_type": "stream",
     "text": [
      "     sentiment    target                                          highlight\n",
      "231      0.700  positive  TSLA +0,19% Добавить/Убрать из портфеля NVDA -...\n",
      "149     -0.477  negative  To put this into perspective, if Lisa Su's pro...\n",
      "32       0.000   neutral  Dow Jones tech giants Apple (AAPL) and Microso...\n",
      "67      -0.772  negative  CEOs of global companies including Elon Musk o...\n",
      "106      0.753  positive  What happened Microsoft (NASDAQ: MSFT), a some...\n"
     ]
    }
   ],
   "source": [
    "# Sample aus Merkmalen\n",
    "sample_attr = df[['sentiment', 'target', 'highlight']].sample(n=5)\n",
    "print(sample_attr)"
   ]
  },
  {
   "cell_type": "markdown",
   "metadata": {},
   "source": [
    "#### Langdetect \n",
    "wir ordnen jedem Text seine Sprache zu. Anschlißend filtern wir für die weitere Verarbeitung nur nach englischen Texten bzw. reduzieren unser Dataframe auf df_en."
   ]
  },
  {
   "cell_type": "code",
   "execution_count": 423,
   "metadata": {},
   "outputs": [],
   "source": [
    "from langdetect import detect \n",
    "\n",
    "# Methode zur Spracherkennung\n",
    "def detect_lang(text):\n",
    "    try:\n",
    "        lang = detect(text)\n",
    "    except: \n",
    "        lang = 'unknown'\n",
    "    return lang \n",
    "\n",
    "# Filtern nach englischen Texten\n",
    "df['lang'] = df['highlight'].apply(detect_lang)\n",
    "\n",
    "# neuer Dataframe\n",
    "df_en = df[df['lang'] == 'en']"
   ]
  },
  {
   "cell_type": "markdown",
   "metadata": {},
   "source": [
    "#### NLTK\n",
    "Wir nutzen NLTK um Stopwörter auszufiltern und überprüfen die Sentiment-Scores, die wir zuvor mit einem lambda Aufruf etwas umformatiert haben."
   ]
  },
  {
   "cell_type": "code",
   "execution_count": 487,
   "metadata": {},
   "outputs": [
    {
     "name": "stderr",
     "output_type": "stream",
     "text": [
      "[nltk_data] Downloading package stopwords to\n",
      "[nltk_data]     C:\\Users\\burak\\AppData\\Roaming\\nltk_data...\n",
      "[nltk_data]   Package stopwords is already up-to-date!\n",
      "[nltk_data] Downloading package vader_lexicon to\n",
      "[nltk_data]     C:\\Users\\burak\\AppData\\Roaming\\nltk_data...\n",
      "[nltk_data]   Package vader_lexicon is already up-to-date!\n"
     ]
    },
    {
     "data": {
      "text/plain": [
       "True"
      ]
     },
     "execution_count": 487,
     "metadata": {},
     "output_type": "execute_result"
    }
   ],
   "source": [
    "import nltk\n",
    "from nltk.corpus import stopwords\n",
    "from nltk.sentiment import SentimentIntensityAnalyzer\n",
    "import warnings\n",
    "warnings.filterwarnings(\"ignore\")\n",
    "\n",
    "nltk.download('stopwords')\n",
    "nltk.download('vader_lexicon')"
   ]
  },
  {
   "cell_type": "markdown",
   "metadata": {},
   "source": [
    "#### Nach Analyse der Wortfrequenz musste ich feststellen, dass in dem Highlight Text z.B die Aktiennamen unproportional (viel Apple) auftauchen. Das Modell lief im ersten Anlauf eventuell dadurch 10% schlechter. Wir nehmen neben den englischen stopwords auch diese Namen raus. "
   ]
  },
  {
   "cell_type": "code",
   "execution_count": 501,
   "metadata": {},
   "outputs": [],
   "source": [
    "stopwords_eng = stopwords.words('english')\n",
    "stopwords_custom = ['apple', 'microsoft', 'google', '(nasdaq:', 'tesla', 'inc.', 'nvidia', 'corporation', 'alphabet', 'paypal']\n",
    "all_sw = set(stopwords_eng + stopwords_custom)"
   ]
  },
  {
   "cell_type": "markdown",
   "metadata": {},
   "source": [
    "#### Wir generieren eine aufgeräumtere highlight Text Spalte"
   ]
  },
  {
   "cell_type": "code",
   "execution_count": 502,
   "metadata": {},
   "outputs": [
    {
     "name": "stdout",
     "output_type": "stream",
     "text": [
      "0     increased one per cent.. US jobless claims sur...\n",
      "1     Shahid Jamil. Fast. could think first two-thir...\n",
      "2     (MSFT) big driver major indexes, (AAPL) Meta P...\n",
      "3     Legendary investor Warren Buffett, ardent supp...\n",
      "4     Te Pūkenga, New Zealand’s largest tertiary edu...\n",
      "5     Combined fact regular, retail investor unprece...\n",
      "6     Combined fact regular, retail investor unprece...\n",
      "7     Gerstner's pure play AI stock picks bit later,...\n",
      "8     Gerstner’s pure play AI stock picks bit later,...\n",
      "11    Shares (AAPL), Cisco Systems (CSCO), Salesforc...\n",
      "Name: highlight_cleaned, dtype: object\n"
     ]
    }
   ],
   "source": [
    "def remove_sw(text):\n",
    "    tokens = text.split()\n",
    "    filtered_tokens = [token for token in tokens if token.lower() not in all_sw]\n",
    "    filtered_text = ' '.join(filtered_tokens)\n",
    "    return filtered_text\n",
    "\n",
    "\n",
    "df_en['highlight_cleaned'] = df_en['highlight'].apply(remove_sw)\n",
    "\n",
    "# Output highlight_cleaned\n",
    "print(df_en['highlight_cleaned'].head(10))"
   ]
  },
  {
   "cell_type": "markdown",
   "metadata": {},
   "source": [
    "#### Erneutes zählen der Wortfrequenz"
   ]
  },
  {
   "cell_type": "code",
   "execution_count": 511,
   "metadata": {},
   "outputs": [
    {
     "name": "stdout",
     "output_type": "stream",
     "text": [
      "[('stock', 40), ('market', 33), ('trading', 33), ('AI', 31), ('price', 27), ('shares', 23), ('companies', 23), ('one', 21), ('Meta', 20), ('new', 19), ('year', 19), ('top', 19), (')', 19), ('company', 18), ('high', 18), ('Inc.,', 18), ('June', 17), ('stocks', 17), ('(AAPL)', 15), ('also', 15), ('—', 15), ('tech', 15), ('first', 14), ('Inc', 14), ('Amazon', 14), ('),', 14), ('big', 13), ('technology', 13), ('Shares', 13), ('Market', 13), ('rose', 12), ('(MSFT)', 12), ('Platforms', 12), ('2023', 12), ('U.S.', 12), ('including', 12), ('last', 12), ('data', 11), ('would', 11), ('like', 11), ('higher', 11), ('Corp.', 11), ('earnings', 11), ('currently', 11), ('close', 10), ('(NVDA)', 10), ('billion', 10), ('streak', 10), ('global', 10), ('Holdings', 10), ('could', 9), ('economic', 9), ('rate', 9), ('record', 9), ('May', 9), ('S&P', 9), ('recent', 9), ('CEO', 9), ('electric', 9), ('quarter', 9), ('2023.', 9), ('Corporation.', 9), ('Toyota', 9), ('available', 8), ('Systems', 8), ('2023,', 8), ('Street', 8), ('following', 8), ('end', 8), ('Elon', 8), ('Musk', 8), ('two', 8), ('EV', 8), ('per', 7), ('sales', 7), ('(META)', 7), ('surged', 7), ('expected', 7), ('retail', 7), ('giant', 7), ('Oracle', 7), ('story', 7), ('all-time', 7), ('get', 7), ('interest', 7), ('Advanced', 7), ('Micro', 7), ('(', 7), ('vehicle', 7), ('previous', 7), ('Inc.’s', 7), ('winning', 7), ('work', 7), ('claims', 6), ('unexpectedly', 6), ('think', 6), ('far', 6), ('Thursday,', 6), ('key', 6), ('making', 6), ('investing', 6), ('years.', 6), ('(AAPL),', 6), ('future', 6), ('boosting', 6), ('analysts', 6), (\"company's\", 6), ('reached', 6), ('Amazon.com', 6), ('Tesla,', 6), ('Intel', 6), ('Trust', 6), ('14,', 6), ('(TSLA)', 6), ('AAPL', 6), ('Dow', 6), ('Jones', 6), ('Inc..', 6), ('five', 6), ('paid', 6), ('nearly', 6), ('$1', 6), ('revenue', 6), ('point', 6), ('Adobe', 6), ('report', 6), (').', 6), ('Zacks', 6), ('Technology', 6), ('Group', 6), ('growth', 6), ('15', 6), ('Wall', 6), ('investors', 6), ('announced', 6), ('China', 6), ('controls', 6), ('international', 6), ('Nasdaq', 6), ('software', 6), ('make', 6), ('list', 6), ('time', 6), ('TSLA', 6), ('increased', 5), ('consumers', 5), ('help', 5), ('near', 5), ('major', 5), ('even', 5), ('largest', 5), ('missing', 5), ('based', 5), ('saw', 5), ('Cisco', 5), ('day', 5), ('podcast', 5), ('Amazon,', 5), ('Apple,', 5), ('year.', 5), ('auto', 5), ('year-to-date', 5), ('value', 5), ('Vision', 5), ('level', 5), ('stocks,', 5), ('back', 5), ('dollars', 5), ('year,', 5), ('right', 5), ('return', 5), ('seen', 5), ('week.', 5), ('premarket', 5), ('13-day', 5), ('much', 5), ('latest', 5), ('CEOs', 5), ('Tim', 5), ('Cook', 5), ('visited', 5), ('met', 5), ('Premier', 5), ('Li', 5), ('Qiang,', 5), ('official,', 5), ('anti-virus', 5), ('blocked', 5), ('travel.', 5), ('(MSFT).', 5), ('portfolio', 5), ('prices', 5), ('week', 5), ('Stock', 5), ('search', 5), ('Corp', 5), ('share', 5), ('capitalization', 5), ('compared', 5), ('generative', 5), ('fiscal', 5), ('battery', 5), ('vehicles', 4), ('Developers', 4), ('Conference', 4), ('since', 4), ('started', 4), ('CAVA', 4), ('closed', 4), ('part', 4), ('sector', 4), ('unprecedented', 4), ('next', 4), ('Treasury', 4), ('yields', 4), ('slid', 4), ('hikes', 4), ('showed', 4), ('spent', 4), ('range', 4), ('call', 4), ('iTunes', 4), ('set', 4), ('target', 4), ('took', 4), ('doesn’t', 4), ('well', 4), ('biggest', 4), ('Corp.,', 4), ('higher,', 4), ('cent', 4), ('500', 4), ('me,', 4), ('194%', 4), ('($146', 4), ('$430),', 4), ('41.5%', 4), ('($130', 4), ('$184),', 4), ('40.4%', 4), ('($240', 4), ('$337),', 4), ('127.5%', 4), ('($120', 4), ('$273),', 4), ('109%', 4), ('($123', 4), ('$257)..', 4), ('stretched', 4), ('overvalued?', 4), ('company,', 4), ('really', 4), ('becoming', 4), ('third', 4), ('start', 4), ('support', 4), ('strength', 4), ('gains', 4), ('current', 4), ('Fed', 4), ('fell', 4), ('rally', 4), ('.,', 4), ('ETFs', 4), ('analysis', 4), ('still', 4), ('Devices', 4), ('fund', 4), ('index', 4), ('total', 4), ('Spotify.', 4), ('(NYSE:', 4), ('expectations', 4), ('favorite', 4), ('Listen', 4), ('intelligence', 4), ('.', 4), ('ministers', 4), ('Ltd.', 4), ('Cabinet', 4), ('version', 4), ('production', 4), ('another', 4), ('world.', 4), ('day.', 4), ('gain', 4), ('significant', 4), ('become', 4), ('Mining', 4), ('Stocks', 4), ('among', 4), ('(NASDAQ:MSFT)', 4), ('climbed', 4), ('yet', 4), ('Methodology.', 4), ('in,', 4), ('artificial', 4), ('early', 4), ('around', 4), ('made', 4), ('popular', 4), ('investment', 4), ('believe', 4), ('Buy', 4), ('Thursday', 4), ('chips', 4), ('Tesla’s', 4), ('Day', 4), ('Holdings,', 4), ('US', 3), ('jobless', 3), ('showing', 3), ('spending', 3), ('news', 3), ('term.', 3), (\"Apple's\", 3), ('(WWDC)', 3), ('things', 3), ('Cava', 3), ('debut', 3), ('investor', 3), ('company’s', 3), ('According', 3), ('display', 3), ('Equity', 3), ('amount', 3), ('information.', 3), (\"Gerstner's\", 3), ('held', 3), ('event', 3), ('product', 3), ('Gerstner’s', 3), ('added', 3), ('1%.', 3), ('slew', 3), ('pointed', 3), ('easing', 3), ('inflation,', 3), ('helping', 3), ('offset', 3), ('worries', 3), ('highs..', 3), ('Data', 3), ('goods', 3), ('vehicles.', 3), ('Visit', 3), ('Podcast', 3), ('platforms', 3), ('addition,', 3), ('achieved', 3), ('raised', 3), ('demand', 3), ('2022', 3), ('today', 3), ('million', 3), ('gaining', 3), ('40', 3), ('three', 3), ('consumer', 3), ('best-performing', 3), ('jumped', 3), ('UnitedHealth', 3), ('monsters', 3), ('DJIA', 3), ('us', 3), ('realize', 3), ('margin', 3), ('valuation', 3), ('AWS', 3), ('giants', 3), (\"today's\", 3), ('industry,', 3), ('recently', 3), ('mega-cap', 3), ('upside', 3), ('State', 3), ('play:', 3), ('responsible', 3), ('vast', 3), ('majority', 3), ('market’s', 3), ('(up', 3), ('36%', 3), ('year),', 3), ('(37%),', 3), ('(39%),', 3), ('(44%),', 3), ('darling', 3), ('Nvidia,', 3), ('159%', 3), ('AI-related', 3), ('excitement.', 3), ('However,', 3), ('1%', 3), ('TV,', 3), ('Facebook', 3), (',', 3), ('Twitter', 3), ('..', 3), ('consecutive', 3), ('5%', 3), ('announcement', 3), ('-6', 3), ('$0.50', 3), ('-2.52%.', 3), ('$0.15', 3), ('0.03%', 3), ('337.60.', 3), ('$4.99', 3), ('-1.16%', 3), ('$425.', 3), ('$0.90', 3), ('$122.78.', 3), ('$0.41', 3), ('$184.32.', 3), ('$1.55', 3), ('$271.70.', 3), ('$3.85', 3), ('-0.80%', 3), ('50%', 3), ('Bull', 3), ('thanks', 3), ('hundreds', 3), ('large-cap', 3), ('(NVDA),', 3), ('Research', 3), ('NVDA,', 3), ('stocks:.', 3), ('Rank', 3), ('North', 3), ('AMD', 3), ('Broadcom', 3), ('Costco', 3), ('already', 3), ('less', 3), ('estimates', 3), ('results', 3), ('long', 3), ('often', 3), ('without', 3), ('according', 3), ('0.3%', 3), ('snapped', 3), ('session,', 3), ('maker', 3), ('Pro', 3), ('world', 3), (\"Inc.'s\", 3), ('30', 3), ('growing', 3), ('chain', 3), ('Taiwan', 3), ('stake', 3), ('purchased', 3), ('plans', 3), ('move', 3), ('leading', 3), ('–', 3), ('introduced', 3), ('highest', 3), ('Looking', 3), ('provider', 3), ('Earnings', 3), ('difficult', 3), ('IBM', 3), ('Reuters', 3), ('Exploring', 3), ('Price', 3), ('(MSFT),', 3), ('C', 3), ('peers', 3), ('products', 3), ('led', 3), ('session.', 3), ('session', 3), ('NASDAQ', 3), ('Brad', 3), ('posted', 3), ('November', 3), ('social', 3), ('FILE', 3), ('PHOTO:', 3), ('shows', 3), ('MSFT', 3), ('staggering', 3), ('Key', 3), ('talk', 3), ('people', 3), ('combined', 3), ('markets', 3), ('Technologies.', 3), ('year-to-date..', 3), ('rise', 3), ('Corporation,', 3), ('business', 3), ('NVDA', 3), ('came', 3), ('One', 3), ('chip', 3), ('market,', 3), ('reports', 3), ('technology,', 3), ('Maybe', 3), ('run', 3), ('looks', 3), ('surge', 3), ('now.', 3), ('past', 3), ('come', 3), ('valuable', 3), ('sold', 3), ('average', 3), ('trading,', 3), ('trillion.', 3), ('Analysis', 3), ('Financial)', 3), ('TSLA)', 3), ('manufacturer', 3), ('leaders', 3), ('enhancing', 3), ('sparked', 3), ('technology.', 3), ('said', 3), ('Free', 3), ('use', 3), ('Ltd.,', 3), ('many', 3), ('WFH', 3), ('cent..', 2), ('surpassed', 2), ('expectations,', 2), ('May,', 2), ('building', 2), ('materials.', 2), ('stave', 2), ('recession', 2), ('(NASDAQ:AAPL)', 2), ('Worldwide', 2), ('streaming', 2), ('pace', 2), ('driver', 2), ('indexes,', 2), ('contributing.', 2), ('breadth', 2), ('strong..', 2), ('(CAVA)', 2), ('99%', 2), ('priced', 2), ('IPO', 2), ('22', 2), ('share,', 2), ('range.', 2), ('opened', 2), ('42', 2), ('43.78.', 2), ('Buffett,', 2), ('stock,', 2), ('highlighted', 2), ('base', 2), ('iPhone', 2), ('users', 2), ('ways', 2), ('New', 2), ('Apple’s', 2), ('Combined', 2), ('fact', 2), ('regular,', 2), ('decisions,', 2), ('makes', 2), ('appear', 2), ('tedious', 2), ('task', 2), ('always', 2), ('risk', 2), ('either', 2), ('blunder', 2), ('piece', 2), ('pure', 2), ('play', 2), ('picks', 2), ('bit', 2), ('later,', 2), ('mentioned', 2), ('interview', 2), ('Cupertino,', 2), ('California', 2), ('(NASDAQ:AAPL).', 2), ('World', 2), ('Wide', 2), ('(CSCO),', 2), ('Salesforce', 2), ('green', 2), ('sixth', 2), ('guest', 2), ('tell', 2), ('please', 2), ('800', 2), ('665', 2), ('0411.', 2), ('Cleantech', 2), ('Climate', 2), ('Change', 2), ('page', 2), ('Investorideas.com.', 2), ('Investorideas.com', 2), ('podcasts', 2), ('(Apple', 2), ('Podcasts),', 2), ('Audible,', 2), ('Spotify,', 2), ('Tunein,', 2), ('Stitcher,', 2), ('Spreaker.com,', 2), ('iHeartRadio,', 2), ('audio', 2), ('chipmaker', 2), ('intraday', 2), ('JPMorgan', 2), ('driving', 2), ('today.', 2), ('January', 2), ('low', 2), ('1st', 2), ('$124.15.', 2), ('$349.35.', 2), ('it’s', 2), ('owner', 2), ('ripped', 2), ('180', 2), ('remaining', 2), ('493', 2), ('are,', 2), ('aggregate,', 2), ('flat.', 2), (\"UK's\", 2), ('ten', 2), ('cryptocurrency', 2), ('Pizza', 2), ('upgrade', 2), ('“This', 2), ('reminds', 2), ('growth/margins', 2), ('Services', 2), ('Analysts', 2), ('business.', 2), ('open.', 2), ('Pro.', 2), ('--', 2), ('heights', 2), ('Federal', 2), ('Reserve', 2), ('cutting', 2), ('example,', 2), ('expense', 2), ('number', 2), ('quarterly', 2), ('Roku,', 2), ('visit', 2), ('YouTube', 2), ('10', 2), ('weeks.', 2), ('almost', 2), ('70%', 2), ('broader', 2), ('tech.', 2), ('Starbucks', 2), ('holdings', 2), ('include', 2), ('(TSLA),', 2), ('eight', 2), ('provides', 2), ('MSFT..', 2), ('synopsis', 2), ('Day:.', 2), ('#1', 2), ('(Strong', 2), ('Buy)', 2), ('First', 2), ('Citizen’s', 2), ('Bancshares', 2), ('Carolina-based', 2), ('anomaly', 2), ('beaten-down', 2), ('banking', 2), ('sector.', 2), ('Крупнейшие', 2), ('клиенты', 2), ('TSMC', 2), ('Qualcomm', 2), ('Incorporated', 2), ('MediaTek', 2), ('(TW:', 2), ('Marvell', 2), ('и', 2), ('looking', 2), ('no-brainer', 2), ('now,', 2), ('consider', 2), ('add', 2), ('exposure', 2), ('fast-growing', 2), ('sectors,', 2), ('though', 2), ('Microsoft:', 2), ('12.9%', 2), ('Apple:', 2), ('12.3%', 2), ('Alphabet:', 2), ('7.8%', 2), ('Amazon:', 2), ('6.8%', 2), ('Nvidia:', 2), ('6.6%', 2), ('Tesla:', 2), ('4.2%', 2), ('Platforms:', 2), ('4.1%', 2), ('Broadcom:', 2), ('2.4%', 2), ('PepsiCo:', 2), ('1.7%', 2), ('Wholesale:', 2), ('1.6%.', 2), ('Invesco', 2), ('QQQ', 2), ('produced', 2), ('750%', 2), ('(or', 2), ('15.3%', 2), ('annually)', 2), ('time.', 2), ('Subscribe', 2), ('Breakfast', 2), ('Podcasts', 2), ('holds', 2), ('June,', 2), ('hike', 2), ('change', 2), ('Unity', 2), ('winners', 2), ('AAPL)', 2), ('winner', 2), ('video', 2), ('highlights', 2), ('VR', 2), ('well..', 2), ('using', 2), ('ChatGPT', 2), ('January,', 2), ('12,000', 2), ('electric-vehicle', 2), ('moved', 2), ('Podcasts.', 2), ('join', 2), ('free', 2), ('Know', 2), ('·', 2), ('4', 2), ('Wednesday,', 2), ('(AMZN)', 2), ('heavy', 2), ('seven', 2), ('cap', 2), (\"500's\", 2), ('moving', 2), ('years,', 2), ('supply', 2), ('position', 2), ('trades', 2), ('infrastructure', 2), ('Advisors', 2), ('Executive', 2), ('pause', 2), ('rising', 2), ('rest', 2), ('lost', 2), ('PCI', 2), ('SSC', 2), ('world’s', 2), ('payments', 2), ('America,', 2), ('brands', 2), ('feature', 2), ('receive', 2), (\"world's\", 2), ('0.3%.', 2), ('Summit', 2), ('features', 2), ('Past', 2), ('Check', 2), ('platform', 2), ('represent', 2), ('net', 2), ('benefits', 2), ('Investment', 2), ('strong', 2), ('operating', 2), ('industry.', 2), ('every', 2), ('title', 2), (\")'s\", 2), ('song', 2), ('(TSXV:', 2), ('IWV’s', 2), ('investments', 2), ('namely', 2), ('Communications', 2), ('soared', 2), ('Tech', 2), ('gained', 2), ('familiar', 2), ('dot-com', 2), ('Jan', 2), ('3,', 2), ('100', 2), ('safe', 2), ('best', 2), ('prospects', 2), ('way', 2), ('potential', 2), ('AI.', 2), ('months,', 2), ('Lennar', 2), ('(NASDAQ:GOOG),', 2), ('A-rated', 2), ('billionaires', 2), ('compiled', 2), ('34', 2), ('large', 2), ('terms', 2), ('debt', 2), ('rated', 2), ('Fitch,', 2), ('(NYSE:SNOW),', 2), ('(NASDAQ:MSFT)..', 2), ('compile', 2), ('picks,', 2), ('looked', 2), ('Artificial', 2), ('hit', 2), ('high..', 2), ('boosted', 2), ('500,', 2), ('prior', 2), ('2021,', 2), ('month', 2), ('Big', 2), ('jump', 2), ('schedule', 2), ('online', 2), ('outside', 2), ('AI,', 2), ('view', 2), ('logo', 2), ('Paris,', 2), ('turned', 2), ('positive', 2), ('negative', 2), ('lows,', 2), ('$-8.50.', 2), ('surprised', 2), ('senior', 2), ('Performance:', 2), ('Comparing', 2), ('1987', 2), ('Gains.', 2), ('1987,', 2), ('Industrial', 2), ('Average', 2), ('(DJI)', 2), ('date', 2), ('25%,', 2), ('100-Index', 2), ('(NDX,', 2), ('QQQ)', 2), ('39%,', 2), ('mainly', 2), ('driven', 2), ('manic', 2), ('behavior', 2), ('select', 2), ('information', 2), ('research', 2), ('stranger’s', 2), ('line', 2), ('chart', 2), ('1,', 2), ('home', 2), ('April', 2), ('41%', 2), ('Limited.', 2), ('Technologies', 2), ('Ltd..', 2), ('providing', 2), ('automotive', 2), ('hardware', 2), ('put', 2), (\"Su's\", 2), ('2027', 2), ('Even', 2), ('Story', 2), ('cloud', 2), ('story.', 2), ('Better', 2), ('analyst', 2), ('AMD)', 2), ('short', 2), ('click', 2), ('(NASDAQ:NVDA).', 2), ('CNBC,', 2), ('stunning', 2), ('2024,', 2), ('shared:.', 2), ('game', 2), ('behavioral', 2), ('lock', 2), ('right.', 2), ('Yesterday', 2), ('(NASDAQ:NVDA),', 2), ('along', 2), ('rallied', 2), ('NVDA),', 2), ('Devices,', 2), ('AMD),', 2), ('lower', 2), ('amid', 2), ('legislation', 2), ('eliminating', 2), ('Section', 2), ('230', 2), ('immunity', 2), ('companies..', 2), ('law', 2), ('allow', 2), ('prosecution', 2), ('media', 2), ('emerging', 2), ('reports.', 2), ('they’ll', 2), ('buying', 2), ('stock’s', 2), ('valued', 2), ('trillion', 2), ('(NVDA).', 2), ('2024', 2), ('days.', 2), ('seems', 2), ('Index', 2), ('Semiconductor', 2), ('action', 2), ('dropping', 2), ('better', 2), ('14', 2), ('sessions,', 2), ('yesterday', 2), ('witnessing', 2), ('(NASDAQ:NVDA)', 2), (\"Nvidia's\", 2), ('center', 2), ('Based', 2), ('so.', 2), ('Director', 2), ('Harvey', 2), ('119,795', 2), ('$403.17.', 2), ('selling', 2), ('snap', 2), ('five-day', 2), ('beyond', 2), (\"year's\", 2), ('rally.', 2), ('X.', 2), ('NVDA)', 2), ('Tuesday,', 2), ('streak.', 2), ('charging', 2), ('station', 2), ('California,', 2), ('August', 2), ('included', 2), ('believes', 2), ('shown', 2), ('standard', 2), ('adding', 2), ('arguably', 2), ('sought-after', 2), ('asserting', 2), ('reach', 2), ('peak..', 2), ('Several', 2), ('factors', 2), ('sentiment.', 2), ('securing', 2), ('deals', 2), ('prominent', 2), ('prospects.', 2), ('dominate', 2), ('Tesla.', 2), ('national', 2), ('4.', 2), ('Monday,', 2), ('decade,', 2), ('sat', 2), ('idly', 2), ('revolution', 2), ('full', 2), ('swing.', 2), ('But,', 2), ('helm,', 2), ('finally', 2), ('waking', 2), ('reality..', 2), ('Battery', 2), ('Breakthrough.', 2), ('Without', 2), ('offering', 2), ('technical', 2), ('details', 2), ('breakthrough', 2), (\"Ford's\", 2), ('13', 2), ('days', 2), ('ETF', 2), ('incredible', 2), ('drop', 2), ('losing', 2), ('capitalize', 2), ('Initial', 2), ('262,000', 2), ('vs.', 2), ('ESG', 2), ('tobacco', 2), ('membership', 2), ('war', 2), ('matter', 2), (':', 2), ('Report.', 2), ('(GOOGL)', 2), ('music', 2), ('industry', 2), ('parent', 2), ('e-commerce', 2), ('players', 2), ('across', 2), ('Holding', 2), ('PYPL,', 2), ('hold', 2), ('Holdings.', 2), ('buy', 2), ('fintech', 2), ('leader', 2), ('(PYPL', 2), ('bear', 2), ('Report', 2), ('Size', 2), ('2021', 2), ('USD', 2), ('CAGR', 2), ('Forecast', 2), ('Financial', 2), ('former', 2), ('remote', 2), ('“It’s', 2), ('admit', 2), ('Friday', 2), ('Full', 2), ('Sacks', 2), ('tweet.', 2), ('Goldman', 2), ('Sachs', 2), ('Shahid', 1), ('Jamil.', 1), ('Fast.', 1), ('two-thirds', 1), ('keynote', 1), ('was,', 1), ('\"Slow', 1), ('down!\"', 1), (\"I've\", 1), ('watching', 1), ('internet,', 1), ('fastest', 1), ('ever', 1), ('seen.', 1), ('Legendary', 1), ('Warren', 1), ('ardent', 1), ('supporter', 1), ('exceptionally', 1), ('devoted', 1), ('customer', 1), ('factor', 1), ('admiration.', 1), ('unwavering', 1), ('brand', 1), ('loyalty', 1), ('permanently', 1), ('phones', 1), ('offered', 1), ('$10,000.', 1), ('Te', 1), ('Pūkenga,', 1), ('Zealand’s', 1), ('tertiary', 1), ('education', 1), ('provider,', 1), ('teamed', 1), ('address', 1), ('gap', 1), ('Māori', 1), ('Pasifika', 1), ('individuals..', 1), ('collaboration', 1), ('Racial', 1), ('Justice', 1), ('Initiative.', 1), ('(CRM)', 1), ('(ORCL)', 1), ('row.', 1), ('$186.01', 1), ('graphics', 1), ('fresh', 1), ('$432.89..', 1), ('Earlier', 1), (\"Microsoft's\", 1), ('citing', 1), ('products.', 1), ('$186.49', 1), ('6', 1), ('$184.93.', 1), ('6,', 1), ('$182.87.', 1), ('$55', 1), ('lobbying', 1), ('federal', 1), ('government', 1), ('2021.', 1), ('mean', 1), ('directly', 1), ('Congress.', 1), ('directed', 1), ('toward', 1), ('agencies', 1), ('well.', 1), ('them,', 1), ('money', 1), ('spent.', 1), ('Seven', 1), ('constituents', 1), ('consist', 1), ('manufacturing', 1), ('companies:', 1), ('NIO,', 1), ('Rivian;', 1), ('stocks:', 1), ('Meta,', 1), ('Snap;', 1), ('discretionary', 1), ('stock:', 1), ('Amazon;', 1), ('company:', 1), ('Coinbase;', 1), ('pharmaceutical,', 1), ('Aurora;', 1), ('energy', 1), ('stock;', 1), ('Uniper.', 1), ('(INTC)', 1), ('picked', 1), ('2%,', 1), ('Domino’s', 1), ('(DPZ)', 1), ('Stifel.', 1), ('T-Mobile', 1), ('(TMUS)', 1), ('Morgan', 1), ('Stanley', 1), ('reinstated', 1), ('pick.', 1), ('MSFT.', 1), ('[', 1), ('Web', 1), ('Services]', 1), ('Cupertino,”', 1), ('Ives..', 1), ('frequently', 1), ('separately', 1), ('Amazon’s', 1), ('player', 1), ('experienced', 1), ('notable', 1), ('fluctuations', 1), ('price,', 1), ('reaching', 1), ('$184', 1), ('launch', 1), ('product,', 1), ('(Bloomberg)', 1), ('high,', 1), ('firm', 1), ('scale', 1), ('rebounds', 1), ('hopes', 1), ('rates.', 1), ('moment,', 1), ('sustaining', 1), ('183', 1), ('attempting', 1), ('reclaim', 1), ('183.38.', 1), ('demonstrate', 1), ('buy-side', 1), ('today,', 1), ('184.09,', 1), ('184.35.', 1), ('quarter.', 1), ('represented', 1), ('Carnival', 1), ('consumed', 1), ('12%', 1), ('pay', 1), ('debt.', 1), ('LiveOne', 1), ('iOS,', 1), ('Android,', 1), ('Fire,', 1), ('OTT,', 1), ('STIRR,', 1), ('XUMO.', 1), ('information,', 1), ('liveone.com', 1), ('follow', 1), ('Instagram', 1), ('TikTok', 1), ('@liveone', 1), ('Legible', 1), ('expectation', 1), ('nearing', 1), ('tightening', 1), ('increases', 1), ('benchmark', 1), ('lighting', 1), ('fire', 1), ('Fed’s', 1), ('Wednesday.', 1), ('Direxion', 1), ('Daily', 1), ('1.5X', 1), ('(AAPU)', 1), ('risen', 1), ('extra', 1), ('leverage', 1), ('inherent', 1), ('fund..', 1), ('byproduct', 1), ('cafes.', 1), ('serious', 1), ('organizing', 1), ('campaign', 1), ('pose', 1), ('headaches', 1), ('gig', 1), ('executives.', 1), ('mobility', 1), ('(GOOGL),', 1), ('(INTC).', 1), ('Six', 1), ('usually', 1), ('holding.', 1), ('buys', 1), ('AMZN),', 1), ('AAPL),', 1), ('COST)', 1), ('businesses', 1), ('portfolio.', 1), ('multiple', 1), ('lots', 1), ('potential,', 1), ('massive.', 1), ('Quantum', 1), ('\"It', 1), ('concentration', 1), ('(ADBE)', 1), ('(AMD),\"', 1), ('said.', 1), ('steady', 1), ('skipping', 1), ('(00:28).', 1), ('Music', 1), ('publishers', 1), ('SONY', 1), ('WMG', 1), ('sue', 1), ('alleged', 1), ('copyright', 1), ('infringement', 1), ('(02:57).', 1), ('TrueCar', 1), ('TRUE', 1), ('rallies', 1), ('announcing', 1), ('restructuring,', 1), ('(03:34).', 1), ('Cupertino.”.', 1), ('Hopes', 1), ('rerating', 1), ('heading', 1), ('pioneer’s', 1), ('supported', 1), ('upside.', 1), ('U)', 1), ('virtual', 1), ('reality', 1), ('(VR)', 1), ('development', 1), ('partner,', 1), ('below,', 1), ('Travis', 1), ('Hoium', 1), ('temper', 1), (\"Unity's\", 1), ('growth.', 1), ('requests', 1), ('comment,', 1), ('reportedly', 1), ('43%', 1), ('professionals', 1), ('tools', 1), ('telling', 1), ('bosses,', 1), ('survey', 1), ('respondents', 1), ('U.S.-based', 1), ('companies,', 1), ('done', 1), ('networking', 1), ('site', 1), ('Fishbowl.', 1), ('heavyweights', 1), ('3.1%', 1), ('trading..', 1), ('$200', 1), ('market-cap.', 1), ('long-rumored', 1), ('mixed-reality', 1), ('headset', 1), ('5,', 1), (\"Street's\", 1), ('reaction', 1), ('device', 1), ('quite', 1), ('enthusiastic.', 1), ('formal', 1), ('headset.', 1), ('listen', 1), ('here:.', 1), ('Breaker.', 1), ('PodBean.', 1), ('Overcast.', 1), ('Youtube.', 1), ('Pocket', 1), ('Casts.', 1), ('RadioPublic.', 1), ('Anchor.', 1), ('Stitcher.', 1), ('podcasts,', 1), ('newsletter', 1), ('here.', 1), ('Unveiling', 1), ('Everything', 1), ('Need', 1), ('Pheonix', 1), ('Follow', 1), ('min', 1), ('readJust', 1), ('Share.', 1), ('visual', 1), ('increasingly', 1), ('crucial,', 1), ('bar', 1), ('groundbreaking', 1), ('Bill', 1), ('Gates', 1), ('(@BillGates)', 1), ('Ltd', 1), ('cabinet', 1), ('Ministers', 1), ('Zeus,', 1), ('non-custodial', 1), ('Lightning-enabled', 1), ('Bitcoin', 1), ('BTC/USD', 1), ('wallet,', 1), ('rejected', 1), ('AAPL,', 1), ('tweet', 1), ('app’s', 1), ('founder,', 1), ('Evan', 1), ('Kaloudis..', 1), ('Happened:', 1), ('rejection', 1), ('occurred', 1), ('clear', 1), ('accepted.', 1), ('performers', 1), ('heavyweights,', 1), ('(GOOG)', 1), ('magnificent', 1), ('$10.3Tr', 1), ('28%', 1), ('$36.9Tr..', 1), ('200', 1), ('40%', 1), ('date.', 1), ('fifth', 1), ('India', 1), ('underscoring', 1), ('importance', 1), ('Asia’s', 1), ('economy', 1), ('shifting', 1), ('sands', 1), ('electronics', 1), ('manufacturing.', 1), ('Stakes:.', 1), ('Semi', 1), ('(TSM),', 1), ('XP', 1), ('(XP):', 1), ('TSM', 1), ('1.34%', 1), ('established', 1), ('~$74', 1), ('~$98', 1), ('~$107.', 1), ('1.28%', 1), ('~$125', 1), ('~$165', 1), ('goes', 1), ('~$184.', 1), ('Journal', 1), ('reported', 1), ('China..', 1), ('easy', 1), ('focus', 1), ('negatives.', 1), ('way..', 1), ('Reining', 1), ('globalization', 1), ('lead', 1), ('regions', 1), ('Chaim', 1), ('Siegel', 1), ('Elazar', 1), ('joins', 1), ('Senior', 1), ('Editor', 1), ('Kim', 1), ('Khan', 1), ('breakdown', 1), ('Wednesday’s', 1), ('decision.', 1), ('hawkish', 1), ('means', 1), ('equity', 1), ('rally,', 1), ('skeptical', 1), ('Jay', 1), ('Powell’s', 1), ('cut', 1), ('pronouncement', 1), ('remain', 1), ('crucial.', 1), ('47%', 1), ('downgrade', 1), ('generally', 1), ('indicative', 1), ('bubble.', 1), ('varies', 1), ('magnitude,', 1), ('Outpaces', 1), ('Gains:', 1), ('$183.95,', 1), ('marking', 1), ('+0.35%', 1), ('outpaced', 1), ('daily', 1), ('0.08%.', 1), ('Elsewhere,', 1), ('0.68%,', 1), ('tech-heavy', 1), ('0.61%.', 1), ('Board', 1), ('comprised', 1), ('stakeholders', 1), ('Microsoft,', 1), ('Bank', 1), ('PayPal.', 1), ('originally', 1), ('founded', 1), ('2006', 1), ('Mastercard,', 1), ('Visa,', 1), ('American', 1), ('Express,', 1), ('Discover,', 1), ('JCB', 1), ('credit', 1), ('card', 1), ('noteworthy', 1), ('addition', 1), ('iOS', 1), ('17,', 1), ('designed', 1), ('notify', 1), ('individuals', 1), ('unsolicited', 1), ('explicit', 1), ('content.', 1), ('liquid', 1), ('crystal', 1), ('(LCD)', 1), ('projected', 1), ('witness', 1), ('Asia-Pacific', 1), ('main', 1), ('reason', 1), ('regional', 1), ('dominant', 1), ('authority', 1), ('supplier', 1), ('LCD', 1), ('screens', 1), ('several', 1), ('end-user', 1), ('verticals', 1), ('competitors', 1), ('group', 1), ('segment', 1), ('0.9%,', 1), ('0.4%,', 1), ('(CSCO)', 1), ('Ad', 1), ('Astra', 1), ('captivating', 1), ('fireside', 1), ('chat', 1), ('Steve', 1), ('Wozniak,', 1), ('legendary', 1), ('co-founder', 1), ('moderated', 1), ('Luis', 1), ('Rodriguez,', 1), ('FlagshipKansas.Tech', 1), ('Immediate', 1), ('Chair.', 1), ('Mark', 1), ('Zuckerberg’s', 1), ('comments', 1), ('headset,', 1), ('NFT', 1), ('Enjin', 1), ('launched', 1), ('blockchain.', 1), ('1.52%.', 1), ('stocks.', 1), ('$19.75', 1), ('4.81%.', 1), ('$1.67', 1), ('4.92%.', 1), ('software,', 1), ('cited', 1), ('initiative,', 1), ('$2.45', 1), ('6.35%.', 1), ('profits', 1), ('result', 1), ('operation.Earnings', 1), ('EKIN', 1), ('KIZILKAYA.', 1), ('Thesis.', 1), ('provided', 1), ('returns', 1), ('good', 1), ('decade..', 1), ('ability', 1), ('maintain', 1), ('environments', 1), ('powerful', 1), ('era', 1), ('ecosystem', 1), ('vertically', 1), ('integrated', 1), ('single', 1), ('mainframes,', 1), ('digital,', 1), ('equipment', 1), ('corporation,', 1), ('mini', 1), ('computers,', 1), ('Nokia', 1), ('phones,', 1), ('smartphones.', 1), ('song’s', 1), ('Chinese', 1), ('Store', 1), ('KKBOX', 1), (\"song's\", 1), ('English', 1), ('Instagram’s', 1), ('Reels', 1), ('Taiwanese', 1), ('rock', 1), ('band', 1), ('Chairman.', 1), ('podcast:.', 1), ('https://www.investorideas.com/Audio/Podcasts/2023/061423-Mining.mp3.', 1), ('-', 1), ('News', 1), ('RIO)', 1), ('MT)', 1), ('APN)', 1), ('KNC).', 1), ('SHARE', 1), ('PODCAST:.', 1), ('podcasts.', 1), ('Rio', 1), ('Tinto', 1), ('(NYSE:RIO)', 1), ('$1.1', 1), ('Top', 1), ('Investments', 1), ('Generated', 1), ('Strong', 1), ('Growth.', 1), ('oriented', 1), ('businesses,', 1), ('Platforms,', 1), ('(META),', 1), ('Amazon.com,', 1), ('(AMZN),', 1), ('Class', 1), ('(GOOG),', 1), ('Electronics', 1), ('telecom', 1), ('Verizon', 1), ('corporations', 1), ('costs', 1), ('surge.', 1), ('case', 1), ('Verizon,', 1), ('$1.21', 1), ('$786', 1), ('period', 1), ('earlier.', 1), ('$0.94', 1), ('0.51%', 1), ('$184.21.', 1), ('stock.', 1), ('$184.93', 1), ('5..', 1), ('tear', 1), ('$3.52', 1), ('0.73%', 1), ('$482.32.', 1), ('Brown', 1), ('Sugar', 1), ('Chromecast,', 1), ('Comcast', 1), ('Xfinity', 1), ('X1,', 1), ('Cox', 1), ('Contour,', 1), ('VIZIO', 1), ('TVs,', 1), ('Prime', 1), ('Video,', 1), ('Fire', 1), ('TV', 1), ('Android', 1), ('smartphones', 1), ('tablets.', 1), ('www.BrownSugar.com', 1), ('uptick', 1), ('cent.', 1), ('millionaires', 1), ('1980s', 1), ('90s', 1), ('due', 1), ('boom..', 1), ('bought', 1), ('2005,', 1), ('bust,', 1), ('13,', 1), ('2023?', 1), ('2005', 1), ('cost', 1), ('$2674.', 1), ('1,150%', 1), ('$33,429.', 1), ('Whatever', 1), ('happens', 1), ('future,', 1), ('say', 1), ('near-term', 1), ('capitalizing', 1), ('accretive', 1), ('shareholders.', 1), ('juice', 1), ('squeeze', 1), ('regarding', 1), ('efficiencies', 1), ('Corp,', 1), ('unveiled', 1), ('procession', 1), ('AI-based', 1), ('record.', 1), ('homebuilders,', 1), ('restaurant', 1), ('doubled', 1), ('Delta', 1), ('Air', 1), ('Lines', 1), ('15th', 1), ('straight', 1), ('happened', 1), ('MSFT),', 1), ('somewhat', 1), ('surprising', 1), ('pace-setter', 1), ('late,', 1), ('Thursday.', 1), ('veteran', 1), ('3.', 1), ('Moody’s,', 1), ('S&P.', 1), ('A-Rated', 1), ('Billionaires', 1), ('Loading', 1), ('On.', 1), (\"Moody's,\", 1), ('Play', 1), ('Boom', 1), ('Rally', 1), ('Hedge', 1), ('Fund', 1), ('Manager', 1), ('Gerstner.', 1), ('want', 1), ('deep', 1), ('dive', 1), ('sure', 1), ('check', 1), ('Best', 1), ('Intelligence', 1), ('(AI)', 1), ('Buy.', 1), ('leads', 1), ('sent', 1), (\"Domino's\", 1), ('6%..', 1), ('equities', 1), ('gains,', 1), ('anticipation', 1), ('soon', 1), ('finish', 1), ('cycle', 1), ('began', 1), ('months', 1), ('ago.', 1), ('Dow,', 1), ('Chase', 1), ('touted', 1), (\"maker's\", 1), ('intelligence..', 1), ('3.2%', 1), ('$348.10,', 1), ('topping', 1), ('peaked.', 1), ('3%', 1), ('slipped', 1), ('activity', 1), ('META),', 1), ('ad', 1), ('left', 1), ('conversation', 1), ('MSFT)', 1), ('talking', 1), ('betting', 1), ('everything', 1), ('it.', 1), ('offices', 1), ('Issy-les-Moulineaux', 1), ('France,', 1), ('25,', 1), ('shy', 1), ('22,', 1), ('$349.99..', 1), ('cool', 1), ('kid', 1), ('block', 1), ('again..', 1), ('well-established', 1), ('innovative', 1), ('giants,', 1), ('critics', 1), ('masses.', 1), ('Kelly,', 1), ('Fink,', 1), ('jobs', 1), ('vice', 1), ('president', 1), ('brand,', 1), ('communications', 1), ('corporate', 1), ('affairs', 1), ('Roku', 1), ('Bridge', 1), ('Wireless', 1), ('LLC.', 1), ('KTS', 1), ('Wireless.', 1), ('Metric', 1), ('Redline', 1), ('Group.', 1), ('Shared', 1), ('Spectrum', 1), ('Company.', 1), ('https://www.researchandmarkets.com/r/26j447.', 1), ('ResearchAndMarkets.com.', 1), ('ResearchAndMarkets.com', 1), ('source', 1), ('computers', 1), ('accessible', 1), ('everyone', 1), ('rich:.', 1), ('’90s,', 1), ('warned', 1), ('teenagers', 1), ('NEVER', 1), ('car.', 1), ('Ditto', 1), ('sleeping', 1), ('house.', 1), ('weight', 1), ('bottom', 1), ('50', 1), ('100..', 1), ('mega-caps', 1), ('53%', 1), ('11%', 1), ('flat', 1), ('index.', 1), ('that’s', 1), ('rocket', 1), ('Companies', 1), ('Mentioned.', 1), ('Systems.', 1), ('Sailpoint', 1), ('Oracle.', 1), ('DELL.', 1), ('IBM.', 1), ('HITACHI.', 1), ('CA', 1), ('Okta.', 1), ('Focus.', 1), ('Centrify', 1), ('Topics', 1), ('Covered:.', 1), ('1.', 1), ('Summary.', 1), ('2.', 1), ('Overview.', 1), ('2.1.', 1), ('Definitions.', 1), ('2.2.', 1), ('Taxonomy.', 1), ('2.3.', 1), ('Dynamics.', 1), ('2.3.1.', 1), ('Drivers.', 1), ('2.3.2.', 1), ('Restraints.', 1), ('2.4.', 1), ('advanced,', 1), ('builders', 1), ('better-than-expected', 1), ('profit', 1), ('outlook', 1), ('deliveries', 1), ('2.2%', 1), ('closing', 1), ('3', 1), ('$49.67.', 1), ('$344.77.', 1), ('Caterpillar,', 1), ('Boeing,', 1), ('Chevron', 1), ('4400', 1), ('4406,', 1), ('33.37', 1), ('points', 1), ('0.76%.', 1), ('21.', 1), ('impact', 1), ('isn’t', 1), ('reflected', 1), ('yet.', 1), ('Microsoft’s', 1), ('4.8%', 1), ('$9.65', 1), ('$9.21', 1), ('Cognizant.', 1), ('Infosys', 1), ('Fujitsu', 1), ('Bell', 1), ('Integrator.', 1), ('Atos', 1), ('SA.', 1), ('HCL', 1), ('Application', 1), ('Transformation', 1), ('Market?.', 1), ('Enhanced', 1), ('scalability', 1), ('handle', 1), ('increasing', 1), ('workloads', 1), ('user', 1), ('demands.', 1), ('SAP', 1), ('SE,', 1), ('Systems,', 1), ('Hewlett', 1), ('Packard', 1), ('Enterprise', 1), ('Company,', 1), ('ServiceNow,', 1), ('deal', 1), ('spells', 1), ('chatbot', 1), ('cloud..', 1), ('Rival', 1), ('worked', 1), ('install', 1), ('voice', 1), ('aide', 1), ('Alexa', 1), ('cars,', 1), ('answer', 1), (\"ChatGPT's\", 1), ('creator,', 1), ('OpenAI.', 1), ('corroborated', 1), ('MVIS’', 1), ('outperformance', 1), ('quarters,', 1), ('ongoing', 1), ('developments', 1), ('lidar', 1), ('efforts', 1), ('slowly', 1), ('overtaking', 1), ('linkage', 1), ('partner', 1), ('legacy', 1), ('provision', 1), ('licensing', 1), ('high-definition', 1), ('systems', 1), ('perspective,', 1), ('Lisa', 1), ('projection', 1), ('reasonable,', 1), ('ballpark', 1), ('$198', 1), ('2022,', 1), ('$145', 1), ('estimated', 1), ('Nvidia-AMD', 1), ('duo.', 1), ('gross', 1), ('margins', 1), ('likely', 1), ('similar.', 1), ('continues.', 1), ('Conclusion.', 1), ('AWS’s', 1), ('clientele,', 1), ('expanding', 1), ('centers', 1), ('regions,', 1), ('continue', 1), ('competitive', 1), ('edge', 1), ('peers,', 1), ('Alphabet’s', 1), ('GOOGL', 1), ('Google..', 1), ('carries', 1), ('#3', 1), ('(Hold).', 1), ('names', 1), ('delivering', 1), ('AI-charged', 1), ('investors.', 1), ('duo', 1), ('QQMG’s', 1), ('third-largest', 1), ('holdings,', 1), ('respectively,', 1), ('there’s', 1), ('ETF’s', 1), ('Activision', 1), ('(ATVI)', 1), ('request', 1), ('5-day', 1), ('hearing', 1), ('FTC', 1), ('suit..', 1), ('Estee', 1), ('Lauder', 1), ('(EL)', 1), ('rises', 1), ('cosmetics', 1), ('teases', 1), ('anti-aging', 1), ('research.', 1), ('Stock:', 1), ('Right', 1), ('Now?.', 1), ('video,', 1), ('look', 1), ('metrics', 1), ('NVDA).', 1), ('learn', 1), ('more,', 1), ('subscribing,', 1), ('special', 1), ('offer', 1), ('link', 1), ('below.', 1), (\"NVIDIA's\", 1), ('NVIDIA’s', 1), ('hour', 1), ('$432.89.', 1), ('extended', 1), ('$419.38', 1), ('high.', 1), ('90%', 1), ('I’m', 1), ('continuing', 1), ('buy..', 1), ('Investing', 1), ('Lesson', 1), ('#3:', 1), ('“Magical”', 1), ('drove', 1), ('300', 1), ('km', 1), ('mountains,', 1), ('tiny', 1), ('villages,', 1), ('rocky', 1), ('roads', 1), ('Tuscany..', 1), ('visiting,', 1), ('didn’t', 1), ('lost.', 1), ('conference,', 1), ('cyclical', 1), ('industrial', 1), ('presented', 1), ('January..', 1), ('one..', 1), ('Meanwhile,', 1), ('Syz', 1), ('notes', 1), ('Nvidia.', 1), ('faster', 1), ('ThinkPad', 1), ('laptops?', 1), ('Windows', 1), ('laptops', 1), ('again?', 1), ('Three', 1), ('“maybes”', 1), ('roaring', 1), ('“buy.”', 1), ('Maybe..', 1), ('+', 1), ('founder.', 1), ('he’s', 1), ('paying', 1), ('attention', 1), ('baby,', 1), ('too.', 1), ('End', 1), ('Chipmaker', 1), ('stands', 1), ('victor', 1), ('public', 1), ('year..', 1), ('picture', 1), ('clear-cut.', 1), ('hottest', 1), ('194.2%', 1), ('128.7%', 1), ('$7.64', 1), ('$3.34', 1), ('guiding', 1), ('expected.', 1), ('revised', 1), ('Adrian', 1), ('Los.', 1), ('interesting', 1), ('(and', 1), ('companies)', 1), ('doubt', 1), ('superlatives', 1), ('performance', 1), ('Nasdaq-100', 1), ('(NDX)', 1), ('(SP500).', 1), ('pulled', 1), ('run,', 1), ('(AMD)', 1), ('falling', 1), ('2.8%', 1), ('(TSM)', 1), ('1.1%', 1), ('initially', 1), ('recovered', 1), ('somewhat,', 1), ('coincided', 1), ('blowout', 1), ('second-quarter', 1), ('guidance', 1), ('imagined.', 1), ('beating', 1), ('1', 1), ('percentage', 1), ('point.', 1), ('giant,', 1), ('carried', 1), ('massive', 1), ('influx', 1), ('buyers', 1), ('regular', 1), ('hours', 1), (\"we're\", 1), ('reversal', 1), (\"Thursday's\", 1), ('action.', 1), ('claim', 1), ('cross', 1), ('$150', 1), ('aligns', 1), ('Jensen', 1), (\"Huang's\", 1), ('statements', 1), ('trillions', 1), ('built', 1), ('replaced', 1), ('coming', 1), ('Justin', 1), ('Sullivan.', 1), (\"Corporation's\", 1), ('ranks', 1), ('almighty', 1), ('club,', 1), ('conduct', 1), ('in-depth', 1), ('present', 1), ('valuation.', 1), ('Invest', 1), ('Bullish', 1), ('Views?', 1), ('Crown', 1), ('Castle', 1), ('(CCI)', 1), ('(www.ZommaEngine.com).', 1), ('powering', 1), ('bull', 1), ('market.', 1), ('clusters', 1), ('chips,', 1), ('backbone', 1), ('revolution,', 1), ('human', 1), ('workers?', 1), ('labor', 1), ('force?', 1), ('NVIDIA.', 1), ('Trade:', 1), ('insider', 1), ('received', 1), ('$48.3', 1), ('shares..', 1), ('falls', 1), ('1.3%', 1), ('putting', 1), ('course', 1), ('monster', 1), ('let', 1), ('take', 1), (\"tech's\", 1), ('choosing', 1), ('absolute', 1), ('winners..', 1), ('might', 1), ('INTC),', 1), ('AVGO),', 1), ('4.92%,', 1), ('4.81%', 1), ('4.12%,', 1), ('respectively.', 1), ('“superchip”', 1), ('claimed', 1), ('Wednesday', 1), ('high-performance', 1), ('silicon', 1), ('better.', 1), ('megacap', 1), ('futures', 1), ('0.7%.', 1), ('Link:', 1), ('Set', 1), ('Extend', 1), ('Losses', 1), ('Snapping', 1), ('Record', 1), ('Winning', 1), ('Streak.', 1), ('--With', 1), ('assistance', 1), ('Esha', 1), ('Dey.', 1), ('Charger', 1), ('Supercharger', 1), ('rapid', 1), ('...', 1), ('[+]', 1), ('Motors,', 1), ('Silicon', 1), ('Valley', 1), ('town', 1), ('Mountain', 1), ('View,', 1), ('24,', 1), ('2016.', 1), ('(Photo', 1), ('Smith', 1), ('Collection/Gado/Getty', 1), ('Images).', 1), ('Try', 1), ('SwingTrader.', 1), ('IBD', 1), ('Digital:', 1), ('Unlock', 1), (\"IBD's\", 1), ('Premium', 1), ('Lists,', 1), ('Tools', 1), ('Today.', 1), ('Vs.', 1), ('BYD:', 1), ('Giants', 1), ('Vie', 1), ('Crown,', 1), ('Buy?', 1), ('reason,', 1), ('curious', 1), ('manner.', 1), ('Auto', 1), ('manufacturers', 1), ('gurus', 1), ('GM,', 1), ('Ford,', 1), ('Stellantis', 1), ('Ferrari..', 1), ('automaker', 1), ('Motor', 1), ('(TM,', 1), ('Tuesday', 1), ('morning', 1), ('next-generation', 1), ('announced..', 1), ('Motor.', 1), ('letter,', 1), ('contained', 1), ('31,000', 1), ('signatures,', 1), ('risks', 1), ('civilization.', 1), ('Palantir', 1), ('PLTR)', 1), ('Alex', 1), ('Karp', 1), ('calling', 1), ('don’t', 1), ('store.', 1), ('Newly', 1), ('installed', 1), ('car', 1), ('chargers', 1), ('Super', 1), ('Charging', 1), ('Carlsbad,', 1), ('Sept.', 1), ('2018.', 1), ('fast-charging', 1), ('predominant', 1), ('U.S.,', 1), ('opening', 1), ('streams', 1), ('maker..', 1), ('week,', 1), ('spectacular', 1), ('60%', 1), ('April.', 1), ('predicted', 1), ('\"serious', 1), ('recession\"', 1), ('responded', 1), ('reducing', 1), ('vehicles..', 1), ('alleviation', 1), ('challenges,', 1), ('signs', 1), ('stability,', 1), ('rebounded,', 1), ('approaching', 1), ('levels', 1), ('pandemic.', 1), ('reduce', 1), ('shifts', 1), ('German', 1), ('plant,', 1), ('says', 1), ('targets', 1), ('track.', 1), ('-0.11%', 1), ('Add', 1), ('to/Remove', 1), ('Watchlist.', 1), ('hire', 1), ('fewer', 1), ('temporary', 1), ('workers', 1), ('plant', 1), ('Berlin', 1), ('initial', 1), ('ramp-up', 1), ('phase.', 1), ('Additionally,', 1), ('longer', 1), ('Saturday', 1), ('shifts.', 1), ('(NASDAQ:TSLA)', 1), ('TSLA,', 1), ('Photo', 1), ('Kimihiro', 1), ('Hoshino/AFP', 1), ('via', 1), ('Getty', 1), ('Images', 1), ('degree.', 1), ('April,', 1), ('traded', 1), ('NIO', 1), ('second', 1), ('most-traded', 1), ('shares,', 1), ('followed', 1), ('Coinbase.', 1), ('appears', 1), ('ten.', 1), ('Also', 1), ('Read:', 1), ('Month:', 1), ('Jim', 1), ('Cramer', 1), ('Calling', 1), ('‘The', 1), ('Princess', 1), ('Bride’', 1), ('Rally.', 1), ('ahead,', 1), ('holidays', 1), ('2023:.', 1), ('Independence', 1), ('July', 1), ('Labor', 1), ('September', 1), ('Thanksgiving', 1), ('23.', 1), ('Christmas', 1), ('December', 1), ('25.', 1), ('Juneteenth', 1), ('SpaceX,', 1), ('attends', 1), ('roundtable', 1), ('6th', 1), ('edition', 1), ('\"Choose', 1), ('France\"', 1), ('Chateau', 1), ('de', 1), ('Versailles,', 1), ('France', 1), ('15,', 1), ('Lawler', 1), ('decision', 1), ('network', 1), ('require', 1), ('additional', 1), ('capital', 1), ('part..', 1), ('Owners', 1), ('Ford', 1), ('access', 1), ('Superchargers', 1), ('starting', 1), ('2024.', 1), ('(TSLA).', 1), ('row', 1), ('108.5%', 1), ('60', 1), ('12.5%', 1), ('$3.56', 1), ('$4.07', 1), ('forecast', 1), ('rebound', 1), ('32.5%', 1), ('$4.72.', 1), ('Single-Stock', 1), ('Racing', 1), ('Hit', 1), ('Billion-Dollar', 1), ('AUM', 1), ('weeks,', 1), ('Motors', 1), ('headlines', 1), ('finance', 1), ('record-breaking', 1), ('climb', 1), ('broke', 1), ('pause.', 1), ('track', 1), ('billion-dollar', 1), ('single-stock', 1), ('ETF.', 1), ('general', 1), ('Gigafactory', 1), ('Gruenheide', 1), ('Berlin,', 1), ('Germany,', 1), ('30,', 1), ('2022.', 1), ('laid', 1), ('sweeping', 1), ('plan', 1), ('radical', 1), ('redesign', 1), ('factories,', 1), ('sending', 1), ('clearest', 1), ('signal', 1), ('intention', 1), ('capture', 1), ('larger', 1), ('electrics,', 1), ('outsold', 1), ('rivals', 1), ('ven', 1), ('40%.', 1), ('‘re', 1), ('again,', 1), ('though,', 1), ('begin..', 1), ('Whether', 1), ('extends', 1), ('depend', 1), ('RBC', 1), ('Capital', 1), ('Markets', 1), ('Tom', 1), ('Narayan', 1), ('feeling', 1), ('upbeat', 1), ('envisions', 1), ('robotaxis..', 1), ('Robotaxis', 1), ('time,', 1), ('Narayan,', 1), ('highly', 1), ('bullish', 1), ('financially', 1), ('becomes', 1), ('autonomous..', 1), ('“We', 1), ('believe...', 1), ('jetcityimage.', 1), ('Due', 1), ('factors,', 1), ('political', 1), ('social,', 1), ('economic,', 1), ('technological,', 1), ('controversial', 1), ('debated', 1), ('(NASDAQ:TSLA).', 1), ('reversed', 1), ('recovering', 1), ('sharp', 1), ('losses', 1), ('historic', 1), ('win', 1), ('Wednesday..', 1), ('unemployment', 1), ('261,000', 1), ('fall', 1), ('248,000..', 1), ('Further,', 1), ('Commerce', 1), (\"Department's\", 1), (\"May's\", 1), (\"April's\", 1), ('0.4%', 1), ('rise.', 1), ('marked', 1), (\"Tesla's\", 1), ('continuous', 1), ('observed', 1), ('fair', 1), (\"yesterday's\", 1), ('after-hours', 1), ('sell-off', 1), ('persists', 1), ('see', 1), ('located', 1), ('channel', 1), ('246.16', 1), ('250.23.', 1), ('“reality', 1), ('check”', 1), ('inane', 1), ('“scores”', 1), ('comes', 1), ('courtesy', 1), ('Beacon,', 1), ('profiled', 1), ('yes', 1), ('blowing', 1), ('away', 1), ('EV-maker', 1), ('rating.', 1), ('Nearly', 1), ('EVs', 1), ('LiveOne’s', 1), ('Slacker', 1), ('Radio', 1), ('(that', 1), ('includes', 1), ('PodcastOne)', 1), ('11,', 1), ('Company', 1), ('accrued', 1), ('ad-supported', 1), ('approximately', 1), ('2.9', 1), ('million**.', 1), ('ended', 1), ('2%', 1), ('Thursday..', 1), ('slightly', 1), ('hotter', 1), ('expected,', 1), ('contraction', 1), ('0.1%.', 1), ('seem', 1), ('going', 1), ('multi-week', 1), ('streak,', 1), ('(EV)', 1), ('131%', 1), ('giving', 1), ('$782', 1), ('billions', 1), ('months.', 1), ('snapshot', 1), ('shows:.', 1), ('individual', 1), ('2nd', 1), ('fight', 1), ('slumps.', 1), ('joined', 1), ('nationwide.', 1), ('(GOOGL.O)', 1), ('cautioning', 1), ('employees', 1), ('chatbots,', 1), ('Bard,', 1), ('program', 1), ('world,', 1), ('four', 1), ('told', 1), ('Reuters.', 1), ('(LUV)', 1), ('read', 1), ('article', 1), ('Zacks.com', 1), ('here..', 1), ('$6', 1), ('12', 1), ('millions', 1), ('rights', 1), ('allowed', 1), ('customers', 1), ('videos.', 1), ('(GOOG):', 1), ('GOOG', 1), ('~8%', 1), ('Q2', 1), ('~$106', 1), ('~$144', 1), ('~$124.', 1), ('~125%', 1), ('increase', 1), ('~$87', 1), ('~$109.', 1), ('appeared', 1), ('searches', 1), ('Hong', 1), ('Kong’s', 1), ('anthem,', 1), ('instead', 1), ('China’s', 1), ('March', 1), ('Volunteers', 1), ('something', 1), ('refused', 1), ('change.', 1), ('Inc-owned', 1), ('shopping', 1), ('compete', 1), ('Amazon..', 1), ('capabilities', 1), ('visualise', 1), ('apparel', 1), ('different', 1), ('body', 1), ('types', 1), ('find', 1), ('image-recognition', 1), ('Inc-ownedGoogle,', 1), ('space,', 1), ('thatgenerative', 1), ('done.', 1), ('raced', 1), ('toadd', 1), ('engines', 1), ('productivitysoftware', 1), ('seek', 1), ('Bloomberg', 1), ('report,', 1), ('engineers', 1), ('surging', 1), ('industries', 1), ('asking', 1), ('reliable', 1), ('ChatGPT-like', 1), ('services,', 1), ('creating', 1), ('opportunity', 1), ('developers', 1), ('generative-AI', 1), ('OpenAI', 1), ('Google.', 1), ('com.', 1), ('Alibaba', 1), ('Dell', 1), ('EMC', 1), ('Corp..', 1), ('Rackspace', 1), ('SAS', 1), ('Institute', 1), ('TIBCO', 1), ('Software', 1), ('Latest', 1), ('Industry', 1), ('Updates', 1), ('(January', 1), ('2021):.', 1), ('computing', 1), ('strategy', 1), ('introduction', 1), ('Outposts.', 1), ('offers', 1), ('criticality', 1), ('inputs,', 1), ('R&D,', 1), ('CAPEX,', 1), ('vendors', 1), ('listed', 1), ('-.', 1), ('Solutions', 1), ('International', 1), ('AB,', 1), ('Avaamo', 1), ('Avaya', 1), ('Conversica', 1), ('Creative', 1), ('Virtual', 1), ('EdgeVerve', 1), ('Inbenta', 1), ('Jio', 1), ('Pushing', 1), ('Integrate', 1), ('Google’s', 1), ('integrating', 1), ('platforms...', 1), ('bringing', 1), ('shopping.', 1), ('this,', 1), ('aims', 1), ('sits', 1), ('Amazon.', 1), ('jockeying', 1), ('leadership', 1), ('GOOGL)(NASDAQ:', 1), ('GOOG)', 1), ('space.', 1), ('Keith', 1), ('Noonan:', 1), ('risky', 1), ('170%', 1), ('pushed', 1), ('roughly', 1), ('enduring', 1), ('prolonged', 1), ('value,', 1), ('merely', 1), ('adapting,', 1), ('spearheading', 1), ('remarkable', 1), ('turnaround.', 1), ('embracing', 1), ('Web3,', 1), ('blockchain', 1), ('strategic', 1), ('investments,', 1), ('payment', 1), ('digital', 1), ('transactions.', 1), ('Fiserv', 1), ('became', 1), ('reclassified', 1), ('GICS', 1), ('structure', 1), ('financials', 1), ('earlier', 1), ('MasterCard', 1), ('Visa..', 1), ('constructed', 1), ('GICS,', 1), ('advisors', 1), ('indexing', 1), ('$500', 1), ('-0.27%)..', 1), ('collapsed', 1), ('80%', 1), ('reining', 1), ('richly', 1), ('companies.', 1), ('Scope.', 1), ('Attribute', 1), ('Details', 1), ('232.17', 1), ('Projected', 1), ('2028', 1), ('949', 1), ('Growth', 1), ('Rate', 1), ('17%', 1), ('Base', 1), ('Year', 1), ('Years', 1), ('2022-2028', 1), ('Players', 1), ('Mastercard', 1), ('Incorporated,', 1), ('Rapyd', 1), ('Network,', 1), ('Solid', 1), ('Technologies,', 1), ('Railsbank', 1), ('Block,', 1), ('piece,', 1), ('evaluated', 1), ('financial', 1), ('services', 1), ('(PYPL)', 1), ('Regional', 1), ('Management', 1), ('(RM),', 1), ('determine', 1), ('buy,', 1), ('sell,', 1), ('fundamental', 1), ('RM', 1), ('ideal', 1), ('wise', 1), ('wait', 1), ('entry', 1), ('PYPL.', 1), ('Davis', 1), ('Sacks,', 1), ('venture', 1), ('capitalist', 1), ('-0.46%', 1), ('executive,', 1), ('getting', 1), ('job', 1), ('done..', 1), ('Remote', 1), ('Work', 1), ('work.', 1), ('2', 1), ('week,”', 1), ('wrote', 1), ('Miura', 1), ('Limited,', 1), ('PayAnywhere', 1), ('LLC,', 1), ('Payleven', 1), ('GmbH,', 1), ('Square,', 1), ('SumUp,', 1), ('Verifone', 1), ('eWAY,', 1), ('Stripe', 1), ('Card', 1), ('Ltd,', 1), ('Revolut', 1), ('others.', 1), ('fourth', 1), ('unique', 1), ('regret', 1), ('wake', 1), ('dip', 1), ('none', 1), ('-1.17%).', 1), ('historically', 1), ('inflation', 1), ('competition', 1), ('headwinds,', 1), ('continues', 1), ('deliver.', 1), ('Maintains', 1), ('Recommendation.', 1), ('Fintel', 1), ('9,', 1), ('maintained', 1), ('coverage', 1), ('(NASDAQ:PYPL)', 1), ('recommendation..', 1), ('Analyst', 1), ('Suggests', 1), ('49.89%', 1), ('Upside.', 1), ('one-year', 1), ('96.29.', 1), ('executive', 1), ('David', 1), ('fan', 1), ('work-from-home', 1), ('(WFH)', 1), ('policies..', 1), ('work,”', 1), ('“WFH', 1), ('four-day', 1), ('two-day', 1), ('week.”', 1)]\n"
     ]
    }
   ],
   "source": [
    "from collections import Counter\n",
    "\n",
    "all_highlights = ' '.join(df_en['highlight_cleaned'])\n",
    "\n",
    "words = all_highlights.split()\n",
    "\n",
    "word_freq = Counter(words)\n",
    "\n",
    "print(word_freq.most_common())"
   ]
  },
  {
   "cell_type": "markdown",
   "metadata": {},
   "source": [
    "#### NLTK basierter Sentiment-Analyser. Der Output ist identisch mit unseren extrahierten Sentiment Werten."
   ]
  },
  {
   "cell_type": "code",
   "execution_count": 512,
   "metadata": {},
   "outputs": [],
   "source": [
    "sia = SentimentIntensityAnalyzer()\n",
    "\n",
    "def analyze_sentiment(text):\n",
    "    sentiment_scores = sia.polarity_scores(text)\n",
    "    sentiment = sentiment_scores['compound']\n",
    "    return sentiment\n",
    "\n",
    "df_en['sentiment_score'] = df_en['highlight_cleaned'].apply(analyze_sentiment)\n",
    "df_en['target'] = np.where(df_en['sentiment_score'] > 0.50, 'positive', np.where(df_en['sentiment_score'] < 0, 'negative', 'neutral'))"
   ]
  },
  {
   "cell_type": "markdown",
   "metadata": {},
   "source": [
    "#### Modellentwicklung\n",
    "Der Multinomial Naive Bayes (MNB) als effizienter Algorithmus und klassiker unter den Textklassifikationsmodellen eignet sich für unseren Datensatz gut. Zum einen arbeiten wir mit Textdaten (highlight_cleaned), zum anderen haben wir mehr als zwei Sentiment-Klassen und der MNB ist ein Multiklassenklassifikationsmodell der effektiv mit mehreren Klassen modellieren kann. Der Naive Bayes geht zudem davon aus, dass die Merkmale unabhängig voneinander sind und liefert unter dieser Annahme gute Ergebnisse. Das eignet sich gut auch in unserem Fall. "
   ]
  },
  {
   "cell_type": "code",
   "execution_count": 537,
   "metadata": {},
   "outputs": [],
   "source": [
    "from sklearn.model_selection import train_test_split\n",
    "from sklearn.feature_extraction.text import TfidfVectorizer\n",
    "from sklearn.naive_bayes import MultinomialNB\n",
    "from sklearn.metrics import accuracy_score, precision_score, recall_score, confusion_matrix\n",
    "\n",
    "# Feature Text und Zielvariable setzen\n",
    "X = df_en['highlight_cleaned']\n",
    "y = df_en['target']\n",
    "\n",
    "# Daten in Trainings- und Testdaten aufteilen (20/80)\n",
    "X_train, X_test, y_train, y_test = train_test_split(X, y, test_size=0.2, random_state=42)\n",
    "\n",
    "# Vektorisierung um Textdaten in numerische Merkmale umzuwandeln\n",
    "# Bsp. Gewichtung nach Häufigkeit und Seltenheit der Wörter, Stoppwörter reduzieren\n",
    "vectorizer = TfidfVectorizer()\n",
    "X_train = vectorizer.fit_transform(X_train)\n",
    "X_test = vectorizer.transform(X_test)\n",
    "\n",
    "# MNB initialisieren\n",
    "nb_classifier = MultinomialNB()\n",
    "nb_classifier.fit(X_train, y_train)\n",
    "\n",
    "# Zielvariable vorhersagen (Integration mit dem Merkmalsvektor)\n",
    "y_pred = nb_classifier.predict(X_test)\n"
   ]
  },
  {
   "cell_type": "markdown",
   "metadata": {},
   "source": [
    "#### Evaluierung"
   ]
  },
  {
   "cell_type": "code",
   "execution_count": 650,
   "metadata": {},
   "outputs": [
    {
     "name": "stdout",
     "output_type": "stream",
     "text": [
      "Accuracy: 0.6428571428571429\n",
      "Precision: 0.6482843137254901\n",
      "Recall: 0.6428571428571429\n"
     ]
    }
   ],
   "source": [
    "# Evaluierung\n",
    "accuracy = accuracy_score(y_test, y_pred)\n",
    "precision = precision_score(y_test, y_pred, average=\"weighted\")\n",
    "recall = recall_score(y_test, y_pred, average=\"weighted\")\n",
    "confusion_mat = confusion_matrix(y_test, y_pred)\n",
    "\n",
    "# Ausgabe\n",
    "print(\"Accuracy:\", accuracy)\n",
    "print(\"Precision:\", precision)\n",
    "print(\"Recall:\", recall)"
   ]
  },
  {
   "cell_type": "markdown",
   "metadata": {},
   "source": [
    "#### Konfusionsmatrix"
   ]
  },
  {
   "cell_type": "code",
   "execution_count": 539,
   "metadata": {},
   "outputs": [
    {
     "data": {
      "image/png": "[encoded data removed]",
      "text/plain": [
       "<Figure size 640x480 with 2 Axes>"
      ]
     },
     "metadata": {},
     "output_type": "display_data"
    }
   ],
   "source": [
    "import seaborn as sns\n",
    "import matplotlib.pyplot as plt\n",
    "\n",
    "cnfmtx = confusion_matrix(y_test, y_pred)\n",
    "\n",
    "sns.heatmap(cnfmtx, annot=True)\n",
    "plt.xlabel('Predicted')\n",
    "plt.ylabel('Actual')\n",
    "plt.title('Confusion Matrix')\n",
    "plt.show()"
   ]
  },
  {
   "cell_type": "markdown",
   "metadata": {},
   "source": [
    "#### Test-Beispiel"
   ]
  },
  {
   "cell_type": "code",
   "execution_count": 651,
   "metadata": {},
   "outputs": [
    {
     "name": "stdout",
     "output_type": "stream",
     "text": [
      "Input text: DAX still on upwards trend besides Euro-Zone being in recession.\n",
      "Predicted class: ['neutral']\n",
      "\n",
      "Input text: Kraken Exchange in fear of its Liquidity due to SEC war.\n",
      "Predicted class: ['neutral']\n",
      "\n",
      "Input text: No significant movement of Ethereum signals upcoming low Volatility-Era in Crypto.\n",
      "Predicted class: ['positive']\n",
      "\n",
      "Input text: Upwards movement after Bitcoin breaks free from downside trend.\n",
      "Predicted class: ['positive']\n",
      "\n"
     ]
    }
   ],
   "source": [
    "# Test Eingaben\n",
    "test_input = [\n",
    "    \"DAX still on upwards trend besides Euro-Zone being in recession.\",\n",
    "    \"Kraken Exchange in fear of its Liquidity due to SEC war.\",\n",
    "    \"No significant movement of Ethereum signals upcoming low Volatility-Era in Crypto.\",\n",
    "    \"Upwards movement after Bitcoin breaks free from downside trend.\"\n",
    "]\n",
    "\n",
    "\n",
    "# Test Output\n",
    "for text in test_input:\n",
    "    processed_input = preprocess_text(text)\n",
    "    input_vectorized = vectorizer.transform([processed_input])\n",
    "    prediction = nb_classifier.predict(input_vectorized)\n",
    "    \n",
    "    print(\"Input text:\", text)\n",
    "    print(\"Predicted class:\", prediction)\n",
    "    print()"
   ]
  }
 ],
 "metadata": {
  "kernelspec": {
   "display_name": "Python 3 (ipykernel)",
   "language": "python",
   "name": "python3"
  },
  "language_info": {
   "codemirror_mode": {
    "name": "ipython",
    "version": 3
   },
   "file_extension": ".py",
   "mimetype": "text/x-python",
   "name": "python",
   "nbconvert_exporter": "python",
   "pygments_lexer": "ipython3",
   "version": "3.11.0"
  }
 },
 "nbformat": 4,
 "nbformat_minor": 2
}
