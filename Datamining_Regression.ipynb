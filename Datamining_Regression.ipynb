{
 "cells": [
  {
   "attachments": {},
   "cell_type": "markdown",
   "id": "5f30a9da",
   "metadata": {},
   "source": [
    "# Datamining mit Jupyter Notebook und Python Pandas\n",
    "<img src=\"https://avatars.githubusercontent.com/u/49121218?v=4\" alt=\"Avatar\" style=\"float: left; padding-right:1rem; padding-bottom: .5rem;\" width=80/>\n",
    "\n",
    "📝 [Oguzhan-Burak Bozkurt](https://github.com/0xBuro)<br/>\n",
    "🗓️ April 2023 <br/>\n",
    "\n",
    "Tools: <br/>\n",
    "<div>\n",
    "\n",
    "[<img src=\"https://simpleicons.org/icons/python.svg\" alt=\"Python\" width=\"28\"/>](https://www.python.org/)\n",
    "[<img src=\"https://simpleicons.org/icons/jupyter.svg\" alt=\"Jupyter\" width=\"28\"/>](https://jupyter.org/)\n",
    "[<img src=\"https://simpleicons.org/icons/pandas.svg\" alt=\"Pandas\" width=\"28\"/>](https://pandas.pydata.org/)\n",
    "[<img src=\"https://simpleicons.org/icons/scikitlearn.svg\" alt=\"Sickit-Learn\" width=\"28\"/>](https://scikit-learn.org)\n",
    "\n",
    "</div>\n",
    "\n",
    "## Intro\n",
    "Wir haben einen Excel-Datensatz mit Angaben zu 8000+ Automobilfahrzeugen.\n",
    "In 13 Spalten sind die verschiedenen Fahrzeuge mit Datenangaben\n",
    "zum Jahr, Verkaufspreis, gefahrene Kilomenter, Kraftsstoffart, Verkäuferart,\n",
    "Getriebe, Besitzer (Hand), Verbrauch, Motorisierung, maximale Leistung, Drehmoment \n",
    "und Anzahl der Sitze aufgelistet.\n",
    "\n",
    "#### Spalten im Datensatz:\n",
    "[name, year, selling_price, km_driven, fuel, seller_type, transmission, owner, mileage, engine, max_power, torque, seats]\n",
    "\n",
    "## Exploration/Datenpräparation \n",
    "Bevor wir eine genaue Zielvariable definieren können, müssen wir uns die Daten genauer anschauen und analysieren. Wir fragen uns, wie wir den Datensatz sinnvoll nutzen können, um aussagekräftige Schlüsse zu ziehen, Zielvariablen mit mehrwert zu definieren oder Vermutungen für die Zukunft zu erstellen."
   ]
  },
  {
   "attachments": {},
   "cell_type": "markdown",
   "id": "e496862c",
   "metadata": {},
   "source": [
    "## Datenvorbereitung\n",
    "\n",
    "Wir nutzen die Pandas Bibliothek und laden unser Excel-Sheet in ein geeignetes Dataframe. \n",
    "Als erstes verschaffen wir uns einen Überblick über den Datensatz und ihren Inhalt sowie seine Datentypen.\n",
    "Wir importieren außerdem matplotlib.pyplot für das plotten von Diagrammen und Tabellen, die wir für unsere Analyse verwenden werden."
   ]
  },
  {
   "cell_type": "code",
   "execution_count": 1,
   "id": "b90ad06f",
   "metadata": {},
   "outputs": [
    {
     "data": {
      "text/html": [
       "<div>\n",
       "<style scoped>\n",
       "    .dataframe tbody tr th:only-of-type {\n",
       "        vertical-align: middle;\n",
       "    }\n",
       "\n",
       "    .dataframe tbody tr th {\n",
       "        vertical-align: top;\n",
       "    }\n",
       "\n",
       "    .dataframe thead th {\n",
       "        text-align: right;\n",
       "    }\n",
       "</style>\n",
       "<table border=\"1\" class=\"dataframe\">\n",
       "  <thead>\n",
       "    <tr style=\"text-align: right;\">\n",
       "      <th></th>\n",
       "      <th>name</th>\n",
       "      <th>year</th>\n",
       "      <th>selling_price</th>\n",
       "      <th>km_driven</th>\n",
       "      <th>fuel</th>\n",
       "      <th>seller_type</th>\n",
       "      <th>transmission</th>\n",
       "      <th>owner</th>\n",
       "      <th>mileage</th>\n",
       "      <th>engine</th>\n",
       "      <th>max_power</th>\n",
       "      <th>torque</th>\n",
       "      <th>seats</th>\n",
       "    </tr>\n",
       "  </thead>\n",
       "  <tbody>\n",
       "    <tr>\n",
       "      <th>0</th>\n",
       "      <td>Maruti Swift Dzire VDI</td>\n",
       "      <td>2014</td>\n",
       "      <td>450000</td>\n",
       "      <td>145500</td>\n",
       "      <td>Diesel</td>\n",
       "      <td>Individual</td>\n",
       "      <td>Manual</td>\n",
       "      <td>First Owner</td>\n",
       "      <td>23.4 kmpl</td>\n",
       "      <td>1248 CC</td>\n",
       "      <td>74 bhp</td>\n",
       "      <td>190Nm@ 2000rpm</td>\n",
       "      <td>5.0</td>\n",
       "    </tr>\n",
       "    <tr>\n",
       "      <th>1</th>\n",
       "      <td>Skoda Rapid 1.5 TDI Ambition</td>\n",
       "      <td>2014</td>\n",
       "      <td>370000</td>\n",
       "      <td>120000</td>\n",
       "      <td>Diesel</td>\n",
       "      <td>Individual</td>\n",
       "      <td>Manual</td>\n",
       "      <td>Second Owner</td>\n",
       "      <td>21.14 kmpl</td>\n",
       "      <td>1498 CC</td>\n",
       "      <td>103.52 bhp</td>\n",
       "      <td>250Nm@ 1500-2500rpm</td>\n",
       "      <td>5.0</td>\n",
       "    </tr>\n",
       "    <tr>\n",
       "      <th>2</th>\n",
       "      <td>Honda City 2017-2020 EXi</td>\n",
       "      <td>2006</td>\n",
       "      <td>158000</td>\n",
       "      <td>140000</td>\n",
       "      <td>Petrol</td>\n",
       "      <td>Individual</td>\n",
       "      <td>Manual</td>\n",
       "      <td>Third Owner</td>\n",
       "      <td>17.7 kmpl</td>\n",
       "      <td>1497 CC</td>\n",
       "      <td>78 bhp</td>\n",
       "      <td>12.7@ 2,700(kgm@ rpm)</td>\n",
       "      <td>5.0</td>\n",
       "    </tr>\n",
       "    <tr>\n",
       "      <th>3</th>\n",
       "      <td>Hyundai i20 Sportz Diesel</td>\n",
       "      <td>2010</td>\n",
       "      <td>225000</td>\n",
       "      <td>127000</td>\n",
       "      <td>Diesel</td>\n",
       "      <td>Individual</td>\n",
       "      <td>Manual</td>\n",
       "      <td>First Owner</td>\n",
       "      <td>23.0 kmpl</td>\n",
       "      <td>1396 CC</td>\n",
       "      <td>90 bhp</td>\n",
       "      <td>22.4 kgm at 1750-2750rpm</td>\n",
       "      <td>5.0</td>\n",
       "    </tr>\n",
       "    <tr>\n",
       "      <th>4</th>\n",
       "      <td>Maruti Swift VXI BSIII</td>\n",
       "      <td>2007</td>\n",
       "      <td>130000</td>\n",
       "      <td>120000</td>\n",
       "      <td>Petrol</td>\n",
       "      <td>Individual</td>\n",
       "      <td>Manual</td>\n",
       "      <td>First Owner</td>\n",
       "      <td>16.1 kmpl</td>\n",
       "      <td>1298 CC</td>\n",
       "      <td>88.2 bhp</td>\n",
       "      <td>11.5@ 4,500(kgm@ rpm)</td>\n",
       "      <td>5.0</td>\n",
       "    </tr>\n",
       "  </tbody>\n",
       "</table>\n",
       "</div>"
      ],
      "text/plain": [
       "                           name  year  selling_price  km_driven    fuel   \n",
       "0        Maruti Swift Dzire VDI  2014         450000     145500  Diesel  \\\n",
       "1  Skoda Rapid 1.5 TDI Ambition  2014         370000     120000  Diesel   \n",
       "2      Honda City 2017-2020 EXi  2006         158000     140000  Petrol   \n",
       "3     Hyundai i20 Sportz Diesel  2010         225000     127000  Diesel   \n",
       "4        Maruti Swift VXI BSIII  2007         130000     120000  Petrol   \n",
       "\n",
       "  seller_type transmission         owner     mileage   engine   max_power   \n",
       "0  Individual       Manual   First Owner   23.4 kmpl  1248 CC      74 bhp  \\\n",
       "1  Individual       Manual  Second Owner  21.14 kmpl  1498 CC  103.52 bhp   \n",
       "2  Individual       Manual   Third Owner   17.7 kmpl  1497 CC      78 bhp   \n",
       "3  Individual       Manual   First Owner   23.0 kmpl  1396 CC      90 bhp   \n",
       "4  Individual       Manual   First Owner   16.1 kmpl  1298 CC    88.2 bhp   \n",
       "\n",
       "                     torque  seats  \n",
       "0            190Nm@ 2000rpm    5.0  \n",
       "1       250Nm@ 1500-2500rpm    5.0  \n",
       "2     12.7@ 2,700(kgm@ rpm)    5.0  \n",
       "3  22.4 kgm at 1750-2750rpm    5.0  \n",
       "4     11.5@ 4,500(kgm@ rpm)    5.0  "
      ]
     },
     "execution_count": 1,
     "metadata": {},
     "output_type": "execute_result"
    }
   ],
   "source": [
    "import pandas\n",
    "import matplotlib.pyplot as plot\n",
    "\n",
    "# Dataframe aus Excel-Tabelle\n",
    "df_cars = pandas.read_excel('cars.xlsx')\n",
    "\n",
    "# die ersten fünf Einträge einsehen\n",
    "df_cars.head()"
   ]
  },
  {
   "attachments": {},
   "cell_type": "markdown",
   "id": "67447c33",
   "metadata": {},
   "source": [
    "Ausgabe einiger interessanter Daten für die Übersicht"
   ]
  },
  {
   "cell_type": "code",
   "execution_count": 2,
   "id": "174abf13",
   "metadata": {},
   "outputs": [
    {
     "name": "stdout",
     "output_type": "stream",
     "text": [
      "Anzahl eindeutiger Fahrzeughersteller:  32\n",
      "['Maruti' 'Skoda' 'Honda' 'Hyundai' 'Toyota' 'Ford' 'Renault' 'Mahindra'\n",
      " 'Tata' 'Chevrolet' 'Fiat' 'Datsun' 'Jeep' 'Mercedes-Benz' 'Mitsubishi'\n",
      " 'Audi' 'Volkswagen' 'BMW' 'Nissan' 'Lexus' 'Jaguar' 'Land' 'MG' 'Volvo'\n",
      " 'Daewoo' 'Kia' 'Force' 'Ambassador' 'Ashok' 'Isuzu' 'Opel' 'Peugeot']\n"
     ]
    }
   ],
   "source": [
    "# Alle eindeutigen Herstellernamen aus dem Datensatz\n",
    "manufacturers = df_cars['name'].str.split().str[0].unique()\n",
    "# Anzahl der Hersteller aus dem Datensatz\n",
    "manufacturers_count = manufacturers.shape[0]\n",
    "\n",
    "# print der Anzahl an eindeutigen Herstellernamen aus dem Datensatz\n",
    "print(\"Anzahl eindeutiger Fahrzeughersteller: \", manufacturers_count)\n",
    "# Array mit allen Fahrzeugherstellern\n",
    "print(manufacturers)"
   ]
  },
  {
   "attachments": {},
   "cell_type": "markdown",
   "id": "e849ce3f",
   "metadata": {},
   "source": [
    "### 1. Histogramm\n",
    "In einem Histogramm möchten wir die Preisgestaltung für Fahrzeuge im allgemeinen anschauen.\n",
    "Wir haben keine weiteren Angaben zu den Zahlen unter selling_price und wissen nicht, von welcher Einheit auszugehen ist.\n",
    "Deshalb probieren wir aus und schauen uns die Verteilung der Angaben auf verschiedene Preisbereiche an, um zu sehen, ob man hieraus eine überschaubare Preispanne entnehmen kann, um anschließend damit weiterarbeiten zu können. \n",
    "\n",
    "ACHTUNG: wir werten hier erstmal nicht wie gut oder schlecht wir analysieren. Bewusst ist uns jedoch, dass wir uns tatsächlich nur die Preise in unserem Datensatz anschauen, ohne auf vielleicht nicht triviale Unterscheidungen wie Kraftstoffart, Leistung und Motorisierung einzugehen. Ziel ist es hier erst einmal, dass wir Ausbrüche vermeiden wollen.\n",
    "Diese könnten wenige sehr alte Autos mit extrem niedrigem Preis oder ein paar super Sportwagen mit extrem hohen Preis sein.\n",
    "Wir ignorieren hier diese gezielt."
   ]
  },
  {
   "cell_type": "code",
   "execution_count": 3,
   "id": "579d7e1f",
   "metadata": {},
   "outputs": [
    {
     "data": {
      "image/png": "[encoded data removed]",
      "text/plain": [
       "<Figure size 640x480 with 1 Axes>"
      ]
     },
     "metadata": {},
     "output_type": "display_data"
    }
   ],
   "source": [
    "# einfaches Histogram für verschiedene Preisspannen\n",
    "plot.hist(\n",
    "    df_cars['selling_price'], \n",
    "    bins=[100000, 200000, 300000, 500000, 600000, 750000, 1000000], \n",
    "    edgecolor='black')\n",
    "\n",
    "plot.xlabel(\"Verkaufspreis\") \n",
    "plot.ylabel(\"Anzahl\")\n",
    "plot.title(\"Histogramm für Verteilung der Fahrzeuge auf Preisspannen\")\n",
    "\n",
    "# Plot anzeigen\n",
    "plot.show()\n"
   ]
  },
  {
   "attachments": {},
   "cell_type": "markdown",
   "id": "0f427ee0",
   "metadata": {},
   "source": [
    "Wir sehen eine nennenswert hohe Verteilung auf die von uns gewählte Preispannen.\n",
    "Von über 8000 Einträgen im Datensatz ist eine hohe Verteilung auf die Preispanne 300000 - 500000 ablesbar.\n",
    "\n",
    "### 2. Pivot Tabelle\n",
    "Zuvor haben wir bereits geschaut, welche Hersteller in unserem Datensatz existieren. Wir kennen jetzt auch grob die Verteilung der Preispannen aller Fahrzeuge in unserem Datensatz. Wir interessieren uns im folgenden aber nur für bestimmte Fahrzeuge. Deutsche, japanische und amerikanische Hersteller bauen tolle Autos und wir möchten uns einige Fahrzeuge dieser Hersteller genauer ansehen. In einer Pivot-Tabelle wollen wir uns bevorzugte Fahrzeuge anschauen und den durchschnittlichen Preis der Hersteller ansehen. Diesmal soll auch unterschieden werden, um welche Kraftstoffart es sich bei dem durchschnittlichen Preis des Herstellers handelt. Als zusätliche Variable schauen wir uns an, wie die durchschnittliche Kilometerangabe für den Hersteller und die jeweilige Kraftstoffart aussehen. \n",
    "Folgende Fahrzeughersteller schauen wir uns an:\n",
    "\n",
    "+ BWM\n",
    "+ Toyota\n",
    "+ Lexus\n",
    "+ Ford\n",
    "+ Chevrolet\n",
    "+ Audi\n",
    "+ Mercedes-Benz\n",
    "+ Honda"
   ]
  },
  {
   "cell_type": "code",
   "execution_count": 4,
   "id": "71e42220",
   "metadata": {},
   "outputs": [
    {
     "name": "stdout",
     "output_type": "stream",
     "text": [
      "                      km_driven  selling_price\n",
      "manufacturer  fuel                            \n",
      "Audi          Diesel   58570.34     2382828.51\n",
      "              Petrol   21180.00     4217799.80\n",
      "BMW           Diesel   29915.68     4164230.77\n",
      "              Petrol   44066.67     1991666.67\n",
      "Chevrolet     Diesel   92678.60      349341.05\n",
      "              LPG      77000.00      200000.00\n",
      "              Petrol   63041.38      177015.39\n",
      "Ford          Diesel   82719.41      534307.12\n",
      "              Petrol   45246.33      467028.83\n",
      "Honda         Diesel   73188.71      673374.05\n",
      "              Petrol   54422.85      563463.84\n",
      "Lexus         Petrol   20000.00     5150000.00\n",
      "Mercedes-Benz Diesel   55144.53     2607850.00\n",
      "              Petrol   43642.86     2077857.14\n",
      "Toyota        Diesel  119531.82      948760.28\n",
      "              Petrol   53064.50      992431.98\n"
     ]
    }
   ],
   "source": [
    "# Neue Spalte mit Herstellernamen\n",
    "df_cars['manufacturer'] = df_cars['name'].str.split().str[0]\n",
    "\n",
    "# Filtern nach bevorzugten Herstellern\n",
    "pref_filter = ['BMW', 'Toyota', 'Lexus', 'Ford', 'Chevrolet', 'Audi', 'Mercedes-Benz', 'Honda']\n",
    "filtered_manufacturers = df_cars[df_cars['manufacturer'].isin(pref_filter)]\n",
    "\n",
    "# Pivot Tabelle erstellen und aufsteigend nach Herstellernamen sortieren\n",
    "pvt = pandas.pivot_table(\n",
    "    filtered_manufacturers,\n",
    "    values=['selling_price', 'km_driven'], \n",
    "    index=['manufacturer', 'fuel'],\n",
    "    aggfunc='mean').sort_values('manufacturer')\n",
    "\n",
    "# Print Pivot Tabelle mit 2 Nachkommastellen\n",
    "print(pvt.to_string(float_format=\"{:.2f}\".format))"
   ]
  },
  {
   "attachments": {},
   "cell_type": "markdown",
   "id": "5a76b566",
   "metadata": {},
   "source": [
    "### 3. Korrelation (Lineare Regression)\n",
    "Wir interessieren uns für den Kauf eines Fahrzeugs. Gerne wollen wir aber herausfinden, ob die Preisgestaltung der Fahrzeuge eine Korrelation mit den gefahrenen Kilometern aufweist."
   ]
  },
  {
   "attachments": {},
   "cell_type": "markdown",
   "id": "048dbc95",
   "metadata": {},
   "source": [
    "#### Streudiagram mit Regressionsgerade\n",
    "Wir schauen im Streudiagramm mit Regressionsgerade die Stelle an, an dem die Fahrzeuge aus unserem Filter einen Kilometerstand von 0 - 200.000km aufweisen und möchten mit dem linearen Regressionsmodell aus sklearn die Berechnung des Koeffizienten ausgeben sowie den Preistrend nach gefahrenen Kilomentern vorhersagen. Hierfür importieren wir noch metrics aus sklearn, um die mittlere  quadratische Abweichung sowie das Bestimmtheitsmaß bei unserer Preisvorhersage zu erfassen."
   ]
  },
  {
   "cell_type": "code",
   "execution_count": 5,
   "id": "f75d3473",
   "metadata": {},
   "outputs": [
    {
     "name": "stdout",
     "output_type": "stream",
     "text": [
      "y = 1663054.319355 + -8.335936 * x\n",
      "mittlere quadratische Abweichung: 1519081570240.11\n",
      "Bestimmtheitsmaß: 0.12\n"
     ]
    },
    {
     "data": {
      "image/png": "[encoded data removed]",
      "text/plain": [
       "<Figure size 640x480 with 1 Axes>"
      ]
     },
     "metadata": {},
     "output_type": "display_data"
    }
   ],
   "source": [
    "from sklearn import linear_model, metrics\n",
    "model = linear_model.LinearRegression()\n",
    "\n",
    "x = filtered_manufacturers[['km_driven']]\n",
    "y = filtered_manufacturers[['selling_price']]\n",
    "model.fit(x.values, y)\n",
    "\n",
    "a = model.intercept_\n",
    "b = model.coef_[0]\n",
    "print('y = %f + %f * x'%(a,b)) \n",
    "\n",
    "xfit = [[0],[200000]]\n",
    "yfit = model.predict(xfit)\n",
    "\n",
    "plot.scatter(x, y)\n",
    "plot.plot(xfit, yfit, color= 'red');\n",
    "\n",
    "\n",
    "y_predicted = model.predict(x.values)\n",
    "print(\"mittlere quadratische Abweichung: %.2f\" % metrics.mean_squared_error(y, y_predicted))\n",
    "print(\"Bestimmtheitsmaß: %.2f\" % metrics.r2_score(y, y_predicted))"
   ]
  },
  {
   "attachments": {},
   "cell_type": "markdown",
   "id": "e6c2a873",
   "metadata": {},
   "source": [
    "Wir sehen eine Abnahme des Preises bei steigender Kilometeranzahl der Fahrzeuge aus unserem Filter. Unser Modell zeigt dabei einen mittleren linearen Zusammenhang bei einem Bestimmtheitsmaß von 0,12 (mittel). Die Hohe mittlere quadratische Abweichung deutet aber auf eine niedrige Qualität unserer Prognosemodells. Das kann unter anderem an großen Ausreißern bei den Preisen allgemein liegen. "
   ]
  },
  {
   "attachments": {},
   "cell_type": "markdown",
   "id": "ff0c6a80",
   "metadata": {},
   "source": [
    "### 4. Multiple Regression\n",
    "Als Erweiterung unseres Modells führen wir eine mehfrachlineare Regression durch und beachten eine zusätzliche Variable. Wir möchten bei den Fahrzeugen nun auch zwischen der Kraftstoffart unterscheiden und schauen, wie sich das auf die Preisgestaltung auswirkt. Da wir bei eine Spalte mit kategorischen Daten (CNG, Diesel, LPG, Petrol) für die Kraftstoffart haben, müssen diese per One-Hot-Encoding in Ziffern verwandelt werden. CNG taucht in unserem gefilterten Datensatz nicht auf, deshalb ignorieren wir es im nachvollgenden Code."
   ]
  },
  {
   "cell_type": "code",
   "execution_count": 6,
   "id": "611d8cb7",
   "metadata": {},
   "outputs": [
    {
     "name": "stdout",
     "output_type": "stream",
     "text": [
      "mittlere quadratische Abweichung: 1416438841038.33\n",
      "Bestimmtheitsmaß: 0.18\n"
     ]
    }
   ],
   "source": [
    "# One-hot encoding der fuel Spalte und Zuweisung auf einen Dummy df.\n",
    "fuel_dummies = pandas.get_dummies(filtered_manufacturers['fuel'], prefix='fuel')\n",
    "\n",
    "# Zusammenführen des ursprung bzw. geilterten Dataframes mit unserem neuen Dummy \n",
    "merged_df = pandas.concat([filtered_manufacturers, fuel_dummies], axis=1)\n",
    "\n",
    "\n",
    "x = merged_df[['km_driven', 'fuel_Diesel', 'fuel_LPG', 'fuel_Petrol']]\n",
    "y = merged_df[['selling_price']]\n",
    "model.fit(x, y)\n",
    "\n",
    "y_predicted = model.predict(x)\n",
    "print(\"mittlere quadratische Abweichung: %.2f\" % metrics.mean_squared_error(y, y_predicted))\n",
    "print(\"Bestimmtheitsmaß: %.2f\" % metrics.r2_score(y, y_predicted))"
   ]
  },
  {
   "attachments": {},
   "cell_type": "markdown",
   "id": "43cbd322",
   "metadata": {},
   "source": [
    "Wir haben ein verbessertes Modell und konnten eine etwas niedrigere mittlere quadratische Abweichung erreichen. Das Bestimmtheitsmaß ist bei 0,18 und damit höher als bei der einfachen Regression, was für eine bessere Qualität unseres Modells spricht."
   ]
  }
 ],
 "metadata": {
  "kernelspec": {
   "display_name": "Python 3 (ipykernel)",
   "language": "python",
   "name": "python3"
  },
  "language_info": {
   "codemirror_mode": {
    "name": "ipython",
    "version": 3
   },
   "file_extension": ".py",
   "mimetype": "text/x-python",
   "name": "python",
   "nbconvert_exporter": "python",
   "pygments_lexer": "ipython3",
   "version": "3.11.0"
  }
 },
 "nbformat": 4,
 "nbformat_minor": 5
}
